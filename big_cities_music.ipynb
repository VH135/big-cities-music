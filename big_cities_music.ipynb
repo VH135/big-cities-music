{
 "cells": [
  {
   "cell_type": "markdown",
   "metadata": {
    "toc": true
   },
   "source": [
    "<h1>Содержание<span class=\"tocSkip\"></span></h1>\n",
    "<div class=\"toc\"><ul class=\"toc-item\"><li><span><a href=\"#Обзор-данных\" data-toc-modified-id=\"Обзор-данных-1\"><span class=\"toc-item-num\">1&nbsp;&nbsp;</span>Обзор данных</a></span></li><li><span><a href=\"#Предобработка-данных\" data-toc-modified-id=\"Предобработка-данных-2\"><span class=\"toc-item-num\">2&nbsp;&nbsp;</span>Предобработка данных</a></span><ul class=\"toc-item\"><li><span><a href=\"#Стиль-заголовков\" data-toc-modified-id=\"Стиль-заголовков-2.1\"><span class=\"toc-item-num\">2.1&nbsp;&nbsp;</span>Стиль заголовков</a></span></li><li><span><a href=\"#Пропуски-значений\" data-toc-modified-id=\"Пропуски-значений-2.2\"><span class=\"toc-item-num\">2.2&nbsp;&nbsp;</span>Пропуски значений</a></span></li><li><span><a href=\"#Дубликаты\" data-toc-modified-id=\"Дубликаты-2.3\"><span class=\"toc-item-num\">2.3&nbsp;&nbsp;</span>Дубликаты</a></span></li></ul></li><li><span><a href=\"#Проверка-гипотез\" data-toc-modified-id=\"Проверка-гипотез-3\"><span class=\"toc-item-num\">3&nbsp;&nbsp;</span>Проверка гипотез</a></span><ul class=\"toc-item\"><li><span><a href=\"#Сравнение-поведения-пользователей-двух-столиц\" data-toc-modified-id=\"Сравнение-поведения-пользователей-двух-столиц-3.1\"><span class=\"toc-item-num\">3.1&nbsp;&nbsp;</span>Сравнение поведения пользователей двух столиц</a></span></li><li><span><a href=\"#Музыка-в-начале-и-в-конце-недели\" data-toc-modified-id=\"Музыка-в-начале-и-в-конце-недели-3.2\"><span class=\"toc-item-num\">3.2&nbsp;&nbsp;</span>Музыка в начале и в конце недели</a></span></li><li><span><a href=\"#Жанровые-предпочтения-в-Москве-и-Петербурге\" data-toc-modified-id=\"Жанровые-предпочтения-в-Москве-и-Петербурге-3.3\"><span class=\"toc-item-num\">3.3&nbsp;&nbsp;</span>Жанровые предпочтения в Москве и Петербурге</a></span></li></ul></li><li><span><a href=\"#Итоги-исследования\" data-toc-modified-id=\"Итоги-исследования-4\"><span class=\"toc-item-num\">4&nbsp;&nbsp;</span>Итоги исследования</a></span></li></ul></div>"
   ]
  },
  {
   "cell_type": "markdown",
   "metadata": {
    "id": "E0vqbgi9ay0H"
   },
   "source": [
    "# Музыка больших городов: Яндекс.Музыка"
   ]
  },
  {
   "cell_type": "markdown",
   "metadata": {
    "id": "VUC88oWjTJw2"
   },
   "source": [
    "Сравнение Москвы и Петербурга окружено мифами. Например:\n",
    " * Москва — мегаполис, подчинённый жёсткому ритму рабочей недели;\n",
    " * Петербург — культурная столица, со своими вкусами.\n",
    "\n",
    "На данных Яндекс.Музыки вы сравните поведение пользователей двух столиц.\n",
    "\n",
    "**Цель исследования** — проверьте три гипотезы:\n",
    "1. Активность пользователей зависит от дня недели. Причём в Москве и Петербурге это проявляется по-разному.\n",
    "2. В понедельник утром в Москве преобладают одни жанры, а в Петербурге — другие. Так же и вечером пятницы преобладают разные жанры — в зависимости от города. \n",
    "3. Москва и Петербург предпочитают разные жанры музыки. В Москве чаще слушают поп-музыку, в Петербурге — русский рэп.\n",
    "\n",
    "**Ход исследования**\n",
    "\n",
    "Данные о поведении пользователей вы получите из файла `yandex_music_project.csv`. О качестве данных ничего не известно. Поэтому перед проверкой гипотез понадобится обзор данных. \n",
    "\n",
    "Вы проверите данные на ошибки и оцените их влияние на исследование. Затем, на этапе предобработки вы поищете возможность исправить самые критичные ошибки данных.\n",
    " \n",
    "Таким образом, исследование пройдёт в три этапа:\n",
    " 1. Обзор данных.\n",
    " 2. Предобработка данных.\n",
    " 3. Проверка гипотез.\n",
    "\n"
   ]
  },
  {
   "cell_type": "markdown",
   "metadata": {
    "id": "Ml1hmfXC_Zcs"
   },
   "source": [
    "## Обзор данных\n",
    "\n",
    "Составьте первое представление о данных Яндекс.Музыки.\n",
    "\n",
    "\n"
   ]
  },
  {
   "cell_type": "markdown",
   "metadata": {
    "id": "57eAOGIz_Zcs"
   },
   "source": [
    "Основной инструмент аналитика — `pandas`. Импортируйте эту библиотеку."
   ]
  },
  {
   "cell_type": "code",
   "execution_count": 1,
   "metadata": {
    "id": "AXN7PHPN_Zcs"
   },
   "outputs": [],
   "source": [
    "# импортирую pandas и сохраняю в переменную pd\n",
    "\n",
    "import pandas as pd"
   ]
  },
  {
   "cell_type": "markdown",
   "metadata": {
    "id": "SG23P8tt_Zcs"
   },
   "source": [
    "Прочитайте файл `yandex_music_project.csv` из папки `/datasets` и сохраните его в переменной `df`:"
   ]
  },
  {
   "cell_type": "code",
   "execution_count": 2,
   "metadata": {
    "id": "fFVu7vqh_Zct"
   },
   "outputs": [],
   "source": [
    "# читаю файл методом read_csv\n",
    "\n",
    "df = pd.read_csv('/datasets/yandex_music_project.csv')"
   ]
  },
  {
   "cell_type": "markdown",
   "metadata": {
    "id": "rDoOMd3uTqnZ"
   },
   "source": [
    "Выведите на экран первые десять строк таблицы:"
   ]
  },
  {
   "cell_type": "code",
   "execution_count": 3,
   "metadata": {
    "id": "oWTVX3gW_Zct"
   },
   "outputs": [
    {
     "data": {
      "text/html": [
       "<div>\n",
       "<style scoped>\n",
       "    .dataframe tbody tr th:only-of-type {\n",
       "        vertical-align: middle;\n",
       "    }\n",
       "\n",
       "    .dataframe tbody tr th {\n",
       "        vertical-align: top;\n",
       "    }\n",
       "\n",
       "    .dataframe thead th {\n",
       "        text-align: right;\n",
       "    }\n",
       "</style>\n",
       "<table border=\"1\" class=\"dataframe\">\n",
       "  <thead>\n",
       "    <tr style=\"text-align: right;\">\n",
       "      <th></th>\n",
       "      <th>userID</th>\n",
       "      <th>Track</th>\n",
       "      <th>artist</th>\n",
       "      <th>genre</th>\n",
       "      <th>City</th>\n",
       "      <th>time</th>\n",
       "      <th>Day</th>\n",
       "    </tr>\n",
       "  </thead>\n",
       "  <tbody>\n",
       "    <tr>\n",
       "      <td>0</td>\n",
       "      <td>FFB692EC</td>\n",
       "      <td>Kamigata To Boots</td>\n",
       "      <td>The Mass Missile</td>\n",
       "      <td>rock</td>\n",
       "      <td>Saint-Petersburg</td>\n",
       "      <td>20:28:33</td>\n",
       "      <td>Wednesday</td>\n",
       "    </tr>\n",
       "    <tr>\n",
       "      <td>1</td>\n",
       "      <td>55204538</td>\n",
       "      <td>Delayed Because of Accident</td>\n",
       "      <td>Andreas Rönnberg</td>\n",
       "      <td>rock</td>\n",
       "      <td>Moscow</td>\n",
       "      <td>14:07:09</td>\n",
       "      <td>Friday</td>\n",
       "    </tr>\n",
       "    <tr>\n",
       "      <td>2</td>\n",
       "      <td>20EC38</td>\n",
       "      <td>Funiculì funiculà</td>\n",
       "      <td>Mario Lanza</td>\n",
       "      <td>pop</td>\n",
       "      <td>Saint-Petersburg</td>\n",
       "      <td>20:58:07</td>\n",
       "      <td>Wednesday</td>\n",
       "    </tr>\n",
       "    <tr>\n",
       "      <td>3</td>\n",
       "      <td>A3DD03C9</td>\n",
       "      <td>Dragons in the Sunset</td>\n",
       "      <td>Fire + Ice</td>\n",
       "      <td>folk</td>\n",
       "      <td>Saint-Petersburg</td>\n",
       "      <td>08:37:09</td>\n",
       "      <td>Monday</td>\n",
       "    </tr>\n",
       "    <tr>\n",
       "      <td>4</td>\n",
       "      <td>E2DC1FAE</td>\n",
       "      <td>Soul People</td>\n",
       "      <td>Space Echo</td>\n",
       "      <td>dance</td>\n",
       "      <td>Moscow</td>\n",
       "      <td>08:34:34</td>\n",
       "      <td>Monday</td>\n",
       "    </tr>\n",
       "    <tr>\n",
       "      <td>5</td>\n",
       "      <td>842029A1</td>\n",
       "      <td>Преданная</td>\n",
       "      <td>IMPERVTOR</td>\n",
       "      <td>rusrap</td>\n",
       "      <td>Saint-Petersburg</td>\n",
       "      <td>13:09:41</td>\n",
       "      <td>Friday</td>\n",
       "    </tr>\n",
       "    <tr>\n",
       "      <td>6</td>\n",
       "      <td>4CB90AA5</td>\n",
       "      <td>True</td>\n",
       "      <td>Roman Messer</td>\n",
       "      <td>dance</td>\n",
       "      <td>Moscow</td>\n",
       "      <td>13:00:07</td>\n",
       "      <td>Wednesday</td>\n",
       "    </tr>\n",
       "    <tr>\n",
       "      <td>7</td>\n",
       "      <td>F03E1C1F</td>\n",
       "      <td>Feeling This Way</td>\n",
       "      <td>Polina Griffith</td>\n",
       "      <td>dance</td>\n",
       "      <td>Moscow</td>\n",
       "      <td>20:47:49</td>\n",
       "      <td>Wednesday</td>\n",
       "    </tr>\n",
       "    <tr>\n",
       "      <td>8</td>\n",
       "      <td>8FA1D3BE</td>\n",
       "      <td>И вновь продолжается бой</td>\n",
       "      <td>NaN</td>\n",
       "      <td>ruspop</td>\n",
       "      <td>Moscow</td>\n",
       "      <td>09:17:40</td>\n",
       "      <td>Friday</td>\n",
       "    </tr>\n",
       "    <tr>\n",
       "      <td>9</td>\n",
       "      <td>E772D5C0</td>\n",
       "      <td>Pessimist</td>\n",
       "      <td>NaN</td>\n",
       "      <td>dance</td>\n",
       "      <td>Saint-Petersburg</td>\n",
       "      <td>21:20:49</td>\n",
       "      <td>Wednesday</td>\n",
       "    </tr>\n",
       "  </tbody>\n",
       "</table>\n",
       "</div>"
      ],
      "text/plain": [
       "     userID                        Track            artist   genre  \\\n",
       "0  FFB692EC            Kamigata To Boots  The Mass Missile    rock   \n",
       "1  55204538  Delayed Because of Accident  Andreas Rönnberg    rock   \n",
       "2    20EC38            Funiculì funiculà       Mario Lanza     pop   \n",
       "3  A3DD03C9        Dragons in the Sunset        Fire + Ice    folk   \n",
       "4  E2DC1FAE                  Soul People        Space Echo   dance   \n",
       "5  842029A1                    Преданная         IMPERVTOR  rusrap   \n",
       "6  4CB90AA5                         True      Roman Messer   dance   \n",
       "7  F03E1C1F             Feeling This Way   Polina Griffith   dance   \n",
       "8  8FA1D3BE     И вновь продолжается бой               NaN  ruspop   \n",
       "9  E772D5C0                    Pessimist               NaN   dance   \n",
       "\n",
       "             City        time        Day  \n",
       "0  Saint-Petersburg  20:28:33  Wednesday  \n",
       "1            Moscow  14:07:09     Friday  \n",
       "2  Saint-Petersburg  20:58:07  Wednesday  \n",
       "3  Saint-Petersburg  08:37:09     Monday  \n",
       "4            Moscow  08:34:34     Monday  \n",
       "5  Saint-Petersburg  13:09:41     Friday  \n",
       "6            Moscow  13:00:07  Wednesday  \n",
       "7            Moscow  20:47:49  Wednesday  \n",
       "8            Moscow  09:17:40     Friday  \n",
       "9  Saint-Petersburg  21:20:49  Wednesday  "
      ]
     },
     "execution_count": 3,
     "metadata": {},
     "output_type": "execute_result"
    }
   ],
   "source": [
    "# использую метод head со значением 10\n",
    "\n",
    "df.head(10)"
   ]
  },
  {
   "cell_type": "markdown",
   "metadata": {
    "id": "EO73Kwic_Zct"
   },
   "source": [
    "Одной командой получить общую информацию о таблице:"
   ]
  },
  {
   "cell_type": "code",
   "execution_count": 4,
   "metadata": {
    "id": "DSf2kIb-_Zct"
   },
   "outputs": [
    {
     "name": "stdout",
     "output_type": "stream",
     "text": [
      "<class 'pandas.core.frame.DataFrame'>\n",
      "RangeIndex: 65079 entries, 0 to 65078\n",
      "Data columns (total 7 columns):\n",
      "  userID    65079 non-null object\n",
      "Track       63848 non-null object\n",
      "artist      57876 non-null object\n",
      "genre       63881 non-null object\n",
      "  City      65079 non-null object\n",
      "time        65079 non-null object\n",
      "Day         65079 non-null object\n",
      "dtypes: object(7)\n",
      "memory usage: 3.5+ MB\n"
     ]
    }
   ],
   "source": [
    "# использую команду info\n",
    "df.info()"
   ]
  },
  {
   "cell_type": "markdown",
   "metadata": {
    "id": "TaQ2Iwbr_Zct"
   },
   "source": [
    "Итак, в таблице семь столбцов. Тип данных во всех столбцах — `object`.\n",
    "\n",
    "Согласно документации к данным:\n",
    "* `userID` — идентификатор пользователя;\n",
    "* `Track` — название трека;  \n",
    "* `artist` — имя исполнителя;\n",
    "* `genre` — название жанра;\n",
    "* `City` — город пользователя;\n",
    "* `time` — время начала прослушивания;\n",
    "* `Day` — день недели.\n",
    "\n",
    "В названиях колонок видны три нарушения стиля:\n",
    "1. Строчные буквы сочетаются с прописными.\n",
    "2. Встречаются пробелы.\n",
    "3. **По названию колонки 'time' без документации трудно понять, о каком времени идёт речь. А в данных сразу заметен неявный дубликат 'hip'.**\n",
    "\n",
    "\n",
    "\n",
    "Количество значений в столбцах различается. Значит, в данных есть пропущенные значения.\n"
   ]
  },
  {
   "cell_type": "markdown",
   "metadata": {
    "id": "MCB6-dXG_Zct"
   },
   "source": [
    "**Выводы**\n",
    "\n",
    "В каждой строке таблицы — данные о прослушанном треке. Часть колонок описывает саму композицию: название, исполнителя и жанр. Остальные данные рассказывают о пользователе: из какого он города, когда он слушал музыку. \n",
    "\n",
    "Предварительно можно утверждать, что, данных достаточно для проверки гипотез. Но встречаются пропуски в данных, а в названиях колонок — расхождения с хорошим стилем.\n",
    "\n",
    "Чтобы двигаться дальше, нужно устранить проблемы в данных."
   ]
  },
  {
   "cell_type": "markdown",
   "metadata": {
    "id": "SjYF6Ub9_Zct"
   },
   "source": [
    "## Предобработка данных\n",
    "Исправьте стиль в заголовках столбцов, исключите пропуски. Затем проверьте данные на дубликаты."
   ]
  },
  {
   "cell_type": "markdown",
   "metadata": {
    "id": "dIaKXr29_Zct"
   },
   "source": [
    "### Стиль заголовков\n",
    "Выведите на экран названия столбцов:"
   ]
  },
  {
   "cell_type": "code",
   "execution_count": 5,
   "metadata": {
    "id": "oKOTdF_Q_Zct"
   },
   "outputs": [
    {
     "data": {
      "text/plain": [
       "Index(['  userID', 'Track', 'artist', 'genre', '  City  ', 'time', 'Day'], dtype='object')"
      ]
     },
     "execution_count": 5,
     "metadata": {},
     "output_type": "execute_result"
    }
   ],
   "source": [
    "# использую команду columns\n",
    "\n",
    "df.columns"
   ]
  },
  {
   "cell_type": "markdown",
   "metadata": {
    "id": "zj5534cv_Zct"
   },
   "source": [
    "Приведите названия в соответствие с хорошим стилем:\n",
    "* несколько слов в названии запишите в «змеином_регистре»,\n",
    "* все символы сделайте строчными,\n",
    "* устраните пробелы.\n",
    "\n",
    "Для этого переименуйте колонки так:\n",
    "* `'  userID'` → `'user_id'`;\n",
    "* `'Track'` → `'track'`;\n",
    "* `'  City  '` → `'city'`;\n",
    "* `'Day'` → `'day'`."
   ]
  },
  {
   "cell_type": "code",
   "execution_count": 6,
   "metadata": {
    "id": "ISlFqs5y_Zct"
   },
   "outputs": [],
   "source": [
    "# использую команду rename, в скобках указываю неправильные значения и через двоеточие правильные\n",
    "\n",
    "df = df.rename(columns={'  userID': 'user_id', 'Track': 'track', '  City  ': 'city', 'Day': 'day'})"
   ]
  },
  {
   "cell_type": "markdown",
   "metadata": {
    "id": "1dqbh00J_Zct"
   },
   "source": [
    "Проверьте результат. Для этого ещё раз выведите на экран названия столбцов:"
   ]
  },
  {
   "cell_type": "code",
   "execution_count": 7,
   "metadata": {
    "id": "d4NOAmTW_Zct"
   },
   "outputs": [
    {
     "data": {
      "text/plain": [
       "Index(['user_id', 'track', 'artist', 'genre', 'city', 'time', 'day'], dtype='object')"
      ]
     },
     "execution_count": 7,
     "metadata": {},
     "output_type": "execute_result"
    }
   ],
   "source": [
    "# снова командой columns\n",
    "\n",
    "df.columns"
   ]
  },
  {
   "cell_type": "markdown",
   "metadata": {
    "id": "5ISfbcfY_Zct"
   },
   "source": [
    "### Пропуски значений\n",
    "Сначала посчитайте, сколько в таблице пропущенных значений. Для этого достаточно двух методов `pandas`:"
   ]
  },
  {
   "cell_type": "code",
   "execution_count": 8,
   "metadata": {
    "id": "RskX29qr_Zct"
   },
   "outputs": [
    {
     "data": {
      "text/plain": [
       "user_id       0\n",
       "track      1231\n",
       "artist     7203\n",
       "genre      1198\n",
       "city          0\n",
       "time          0\n",
       "day           0\n",
       "dtype: int64"
      ]
     },
     "execution_count": 8,
     "metadata": {},
     "output_type": "execute_result"
    }
   ],
   "source": [
    "# и это методы isna() и sum()\n",
    "\n",
    "df.isna().sum()"
   ]
  },
  {
   "cell_type": "markdown",
   "metadata": {
    "id": "qubhgnlO_Zct"
   },
   "source": [
    "Не все пропущенные значения влияют на исследование. Так в `track` и `artist` пропуски не важны для вашей работы. Достаточно заменить их явными обозначениями.\n",
    "\n",
    "Но пропуски в `genre` могут помешать сравнению музыкальных вкусов в Москве и Санкт-Петербурге. На практике было бы правильно установить причину пропусков и восстановить данные. Такой возможности нет в учебном проекте. Придётся:\n",
    "* заполнить и эти пропуски явными обозначениями,\n",
    "* оценить, насколько они повредят расчётам. "
   ]
  },
  {
   "cell_type": "markdown",
   "metadata": {
    "id": "fSv2laPA_Zct"
   },
   "source": [
    "Замените пропущенные значения в столбцах `track`, `artist` и `genre` на строку `'unknown'`. Для этого создайте список `columns_to_replace`, переберите его элементы циклом `for` и для каждого столбца выполните замену пропущенных значений:"
   ]
  },
  {
   "cell_type": "code",
   "execution_count": 9,
   "metadata": {
    "id": "KplB5qWs_Zct"
   },
   "outputs": [],
   "source": [
    "columns_to_replace = ['track', 'artist', 'genre']\n",
    "for column in columns_to_replace:\n",
    "     df[column] = df[column].fillna('unknown')"
   ]
  },
  {
   "cell_type": "markdown",
   "metadata": {
    "id": "Ilsm-MZo_Zct"
   },
   "source": [
    "Убедитесь, что в таблице не осталось пропусков. Для этого ещё раз посчитайте пропущенные значения."
   ]
  },
  {
   "cell_type": "code",
   "execution_count": 10,
   "metadata": {
    "id": "Tq4nYRX4_Zct"
   },
   "outputs": [
    {
     "data": {
      "text/plain": [
       "user_id    0\n",
       "track      0\n",
       "artist     0\n",
       "genre      0\n",
       "city       0\n",
       "time       0\n",
       "day        0\n",
       "dtype: int64"
      ]
     },
     "execution_count": 10,
     "metadata": {},
     "output_type": "execute_result"
    }
   ],
   "source": [
    "# снова использую команды isna() и sum()\n",
    "\n",
    "df.isna().sum()"
   ]
  },
  {
   "cell_type": "markdown",
   "metadata": {
    "id": "BWKRtBJ3_Zct"
   },
   "source": [
    "### Дубликаты\n",
    "Посчитайте явные дубликаты в таблице одной командой:"
   ]
  },
  {
   "cell_type": "code",
   "execution_count": 11,
   "metadata": {
    "id": "36eES_S0_Zct"
   },
   "outputs": [
    {
     "data": {
      "text/plain": [
       "3826"
      ]
     },
     "execution_count": 11,
     "metadata": {},
     "output_type": "execute_result"
    }
   ],
   "source": [
    "# дубликаты нахожу командой duplicated() и считаю их количество с помощью sum()\n",
    "\n",
    "df.duplicated().sum()"
   ]
  },
  {
   "cell_type": "markdown",
   "metadata": {
    "id": "Ot25h6XR_Zct"
   },
   "source": [
    "Вызовите специальный метод `pandas`, чтобы удалить явные дубликаты:"
   ]
  },
  {
   "cell_type": "code",
   "execution_count": 12,
   "metadata": {
    "id": "exFHq6tt_Zct"
   },
   "outputs": [],
   "source": [
    "# это метод drop.duplicates()\n",
    "\n",
    "df = df.drop_duplicates().reset_index(drop=True)"
   ]
  },
  {
   "cell_type": "markdown",
   "metadata": {
    "id": "Im2YwBEG_Zct"
   },
   "source": [
    "Ещё раз посчитайте явные дубликаты в таблице — убедитесь, что полностью от них избавились:"
   ]
  },
  {
   "cell_type": "code",
   "execution_count": 13,
   "metadata": {
    "id": "-8PuNWQ0_Zct"
   },
   "outputs": [
    {
     "data": {
      "text/plain": [
       "0"
      ]
     },
     "execution_count": 13,
     "metadata": {},
     "output_type": "execute_result"
    }
   ],
   "source": [
    "# ещё раз дубликаты нахожу командой duplicated() и считаю их количество с помощью sum()\n",
    "\n",
    "df.duplicated().sum()"
   ]
  },
  {
   "cell_type": "markdown",
   "metadata": {
    "id": "QlFBsxAr_Zct"
   },
   "source": [
    "Теперь избавьтесь от неявных дубликатов в колонке `genre`. Например, название одного и того же жанра может быть записано немного по-разному. Такие ошибки тоже повлияют на результат исследования."
   ]
  },
  {
   "cell_type": "markdown",
   "metadata": {
    "id": "eSjWwsOh_Zct"
   },
   "source": [
    "Выведите на экран список уникальных названий жанров, отсортированный в алфавитном порядке. Для этого:\n",
    "* извлеките нужный столбец датафрейма, \n",
    "* примените к нему метод сортировки,\n",
    "* для отсортированного столбца вызовите метод, который вернёт уникальные значения из столбца."
   ]
  },
  {
   "cell_type": "code",
   "execution_count": 14,
   "metadata": {
    "id": "JIUcqzZN_Zct"
   },
   "outputs": [
    {
     "data": {
      "text/plain": [
       "['acid',\n",
       " 'acoustic',\n",
       " 'action',\n",
       " 'adult',\n",
       " 'africa',\n",
       " 'afrikaans',\n",
       " 'alternative',\n",
       " 'alternativepunk',\n",
       " 'ambient',\n",
       " 'americana',\n",
       " 'animated',\n",
       " 'anime',\n",
       " 'arabesk',\n",
       " 'arabic',\n",
       " 'arena',\n",
       " 'argentinetango',\n",
       " 'art',\n",
       " 'audiobook',\n",
       " 'author',\n",
       " 'avantgarde',\n",
       " 'axé',\n",
       " 'baile',\n",
       " 'balkan',\n",
       " 'beats',\n",
       " 'bigroom',\n",
       " 'black',\n",
       " 'bluegrass',\n",
       " 'blues',\n",
       " 'bollywood',\n",
       " 'bossa',\n",
       " 'brazilian',\n",
       " 'breakbeat',\n",
       " 'breaks',\n",
       " 'broadway',\n",
       " 'cantautori',\n",
       " 'cantopop',\n",
       " 'canzone',\n",
       " 'caribbean',\n",
       " 'caucasian',\n",
       " 'celtic',\n",
       " 'chamber',\n",
       " 'chanson',\n",
       " 'children',\n",
       " 'chill',\n",
       " 'chinese',\n",
       " 'choral',\n",
       " 'christian',\n",
       " 'christmas',\n",
       " 'classical',\n",
       " 'classicmetal',\n",
       " 'club',\n",
       " 'colombian',\n",
       " 'comedy',\n",
       " 'conjazz',\n",
       " 'contemporary',\n",
       " 'country',\n",
       " 'cuban',\n",
       " 'dance',\n",
       " 'dancehall',\n",
       " 'dancepop',\n",
       " 'dark',\n",
       " 'death',\n",
       " 'deep',\n",
       " 'deutschrock',\n",
       " 'deutschspr',\n",
       " 'dirty',\n",
       " 'disco',\n",
       " 'dnb',\n",
       " 'documentary',\n",
       " 'downbeat',\n",
       " 'downtempo',\n",
       " 'drum',\n",
       " 'dub',\n",
       " 'dubstep',\n",
       " 'eastern',\n",
       " 'easy',\n",
       " 'electronic',\n",
       " 'electropop',\n",
       " 'emo',\n",
       " 'entehno',\n",
       " 'epicmetal',\n",
       " 'estrada',\n",
       " 'ethnic',\n",
       " 'eurofolk',\n",
       " 'european',\n",
       " 'experimental',\n",
       " 'extrememetal',\n",
       " 'fado',\n",
       " 'fairytail',\n",
       " 'film',\n",
       " 'fitness',\n",
       " 'flamenco',\n",
       " 'folk',\n",
       " 'folklore',\n",
       " 'folkmetal',\n",
       " 'folkrock',\n",
       " 'folktronica',\n",
       " 'forró',\n",
       " 'frankreich',\n",
       " 'französisch',\n",
       " 'french',\n",
       " 'funk',\n",
       " 'future',\n",
       " 'gangsta',\n",
       " 'garage',\n",
       " 'german',\n",
       " 'ghazal',\n",
       " 'gitarre',\n",
       " 'glitch',\n",
       " 'gospel',\n",
       " 'gothic',\n",
       " 'grime',\n",
       " 'grunge',\n",
       " 'gypsy',\n",
       " 'handsup',\n",
       " \"hard'n'heavy\",\n",
       " 'hardcore',\n",
       " 'hardstyle',\n",
       " 'hardtechno',\n",
       " 'hip',\n",
       " 'hip-hop',\n",
       " 'hiphop',\n",
       " 'historisch',\n",
       " 'holiday',\n",
       " 'hop',\n",
       " 'horror',\n",
       " 'house',\n",
       " 'hymn',\n",
       " 'idm',\n",
       " 'independent',\n",
       " 'indian',\n",
       " 'indie',\n",
       " 'indipop',\n",
       " 'industrial',\n",
       " 'inspirational',\n",
       " 'instrumental',\n",
       " 'international',\n",
       " 'irish',\n",
       " 'jam',\n",
       " 'japanese',\n",
       " 'jazz',\n",
       " 'jewish',\n",
       " 'jpop',\n",
       " 'jungle',\n",
       " 'k-pop',\n",
       " 'karadeniz',\n",
       " 'karaoke',\n",
       " 'kayokyoku',\n",
       " 'korean',\n",
       " 'laiko',\n",
       " 'latin',\n",
       " 'latino',\n",
       " 'leftfield',\n",
       " 'local',\n",
       " 'lounge',\n",
       " 'loungeelectronic',\n",
       " 'lovers',\n",
       " 'malaysian',\n",
       " 'mandopop',\n",
       " 'marschmusik',\n",
       " 'meditative',\n",
       " 'mediterranean',\n",
       " 'melodic',\n",
       " 'metal',\n",
       " 'metalcore',\n",
       " 'mexican',\n",
       " 'middle',\n",
       " 'minimal',\n",
       " 'miscellaneous',\n",
       " 'modern',\n",
       " 'mood',\n",
       " 'mpb',\n",
       " 'muslim',\n",
       " 'native',\n",
       " 'neoklassik',\n",
       " 'neue',\n",
       " 'new',\n",
       " 'newage',\n",
       " 'newwave',\n",
       " 'nu',\n",
       " 'nujazz',\n",
       " 'numetal',\n",
       " 'oceania',\n",
       " 'old',\n",
       " 'opera',\n",
       " 'orchestral',\n",
       " 'other',\n",
       " 'piano',\n",
       " 'podcasts',\n",
       " 'pop',\n",
       " 'popdance',\n",
       " 'popelectronic',\n",
       " 'popeurodance',\n",
       " 'poprussian',\n",
       " 'post',\n",
       " 'posthardcore',\n",
       " 'postrock',\n",
       " 'power',\n",
       " 'progmetal',\n",
       " 'progressive',\n",
       " 'psychedelic',\n",
       " 'punjabi',\n",
       " 'punk',\n",
       " 'quebecois',\n",
       " 'ragga',\n",
       " 'ram',\n",
       " 'rancheras',\n",
       " 'rap',\n",
       " 'rave',\n",
       " 'reggae',\n",
       " 'reggaeton',\n",
       " 'regional',\n",
       " 'relax',\n",
       " 'religious',\n",
       " 'retro',\n",
       " 'rhythm',\n",
       " 'rnb',\n",
       " 'rnr',\n",
       " 'rock',\n",
       " 'rockabilly',\n",
       " 'rockalternative',\n",
       " 'rockindie',\n",
       " 'rockother',\n",
       " 'romance',\n",
       " 'roots',\n",
       " 'ruspop',\n",
       " 'rusrap',\n",
       " 'rusrock',\n",
       " 'russian',\n",
       " 'salsa',\n",
       " 'samba',\n",
       " 'scenic',\n",
       " 'schlager',\n",
       " 'self',\n",
       " 'sertanejo',\n",
       " 'shanson',\n",
       " 'shoegazing',\n",
       " 'showtunes',\n",
       " 'singer',\n",
       " 'ska',\n",
       " 'skarock',\n",
       " 'slow',\n",
       " 'smooth',\n",
       " 'soft',\n",
       " 'soul',\n",
       " 'soulful',\n",
       " 'sound',\n",
       " 'soundtrack',\n",
       " 'southern',\n",
       " 'specialty',\n",
       " 'speech',\n",
       " 'spiritual',\n",
       " 'sport',\n",
       " 'stonerrock',\n",
       " 'surf',\n",
       " 'swing',\n",
       " 'synthpop',\n",
       " 'synthrock',\n",
       " 'sängerportrait',\n",
       " 'tango',\n",
       " 'tanzorchester',\n",
       " 'taraftar',\n",
       " 'tatar',\n",
       " 'tech',\n",
       " 'techno',\n",
       " 'teen',\n",
       " 'thrash',\n",
       " 'top',\n",
       " 'traditional',\n",
       " 'tradjazz',\n",
       " 'trance',\n",
       " 'tribal',\n",
       " 'trip',\n",
       " 'triphop',\n",
       " 'tropical',\n",
       " 'türk',\n",
       " 'türkçe',\n",
       " 'ukrrock',\n",
       " 'unknown',\n",
       " 'urban',\n",
       " 'uzbek',\n",
       " 'variété',\n",
       " 'vi',\n",
       " 'videogame',\n",
       " 'vocal',\n",
       " 'western',\n",
       " 'world',\n",
       " 'worldbeat',\n",
       " 'ïîï',\n",
       " 'электроника']"
      ]
     },
     "execution_count": 14,
     "metadata": {},
     "output_type": "execute_result"
    }
   ],
   "source": [
    "# извлекаю столбец 'genre', соритрую методом sorted, а метод unique() вернёт уникальные значения\n",
    "\n",
    "sorted(df['genre'].unique())"
   ]
  },
  {
   "cell_type": "markdown",
   "metadata": {
    "id": "qej-Qmuo_Zct"
   },
   "source": [
    "Просмотрите список и найдите неявные дубликаты названия `hiphop`. Это могут быть названия с ошибками или альтернативные названия того же жанра.\n",
    "\n",
    "Вы увидите следующие неявные дубликаты:\n",
    "* *hip*,\n",
    "* *hop*,\n",
    "* *hip-hop*.\n",
    "\n",
    "Чтобы очистить от них таблицу, напишите функцию `replace_wrong_genres()` с двумя параметрами: \n",
    "* `wrong_genres` — список дубликатов,\n",
    "* `correct_genre` — строка с правильным значением.\n",
    "\n",
    "Функция должна исправить колонку `genre` в таблице `df`: заменить каждое значение из списка `wrong_genres` на значение из `correct_genre`."
   ]
  },
  {
   "cell_type": "code",
   "execution_count": 15,
   "metadata": {
    "id": "ErNDkmns_Zct"
   },
   "outputs": [],
   "source": [
    "def replace_wrong_genres(wrong_genres, correct_genre):\n",
    "    for wrong_genre in wrong_genres:\n",
    "        df['genre'] = df['genre'].replace(wrong_genre, correct_genre)\n",
    "        \n",
    "duplicates = ['hip', 'hop', 'hip-hop']\n",
    "correct_genre = 'hiphop'"
   ]
  },
  {
   "cell_type": "markdown",
   "metadata": {
    "id": "aDoBJxbA_Zct"
   },
   "source": [
    "Вызовите `replace_wrong_genres()` и передайте ей такие аргументы, чтобы она устранила неявные дубликаты: вместо `hip`, `hop` и `hip-hop` в таблице должно быть значение `hiphop`:"
   ]
  },
  {
   "cell_type": "code",
   "execution_count": 16,
   "metadata": {
    "id": "YN5i2hpmSo09"
   },
   "outputs": [],
   "source": [
    "replace_wrong_genres(duplicates, correct_genre)"
   ]
  },
  {
   "cell_type": "markdown",
   "metadata": {
    "id": "zQKF16_RG15m"
   },
   "source": [
    "Проверьте, что заменили неправильные названия:\n",
    "\n",
    "*   hip\n",
    "*   hop\n",
    "*   hip-hop\n",
    "\n",
    "Выведите отсортированный список уникальных значений столбца `genre`:"
   ]
  },
  {
   "cell_type": "code",
   "execution_count": 17,
   "metadata": {
    "id": "wvixALnFG15m"
   },
   "outputs": [
    {
     "data": {
      "text/plain": [
       "['acid',\n",
       " 'acoustic',\n",
       " 'action',\n",
       " 'adult',\n",
       " 'africa',\n",
       " 'afrikaans',\n",
       " 'alternative',\n",
       " 'alternativepunk',\n",
       " 'ambient',\n",
       " 'americana',\n",
       " 'animated',\n",
       " 'anime',\n",
       " 'arabesk',\n",
       " 'arabic',\n",
       " 'arena',\n",
       " 'argentinetango',\n",
       " 'art',\n",
       " 'audiobook',\n",
       " 'author',\n",
       " 'avantgarde',\n",
       " 'axé',\n",
       " 'baile',\n",
       " 'balkan',\n",
       " 'beats',\n",
       " 'bigroom',\n",
       " 'black',\n",
       " 'bluegrass',\n",
       " 'blues',\n",
       " 'bollywood',\n",
       " 'bossa',\n",
       " 'brazilian',\n",
       " 'breakbeat',\n",
       " 'breaks',\n",
       " 'broadway',\n",
       " 'cantautori',\n",
       " 'cantopop',\n",
       " 'canzone',\n",
       " 'caribbean',\n",
       " 'caucasian',\n",
       " 'celtic',\n",
       " 'chamber',\n",
       " 'chanson',\n",
       " 'children',\n",
       " 'chill',\n",
       " 'chinese',\n",
       " 'choral',\n",
       " 'christian',\n",
       " 'christmas',\n",
       " 'classical',\n",
       " 'classicmetal',\n",
       " 'club',\n",
       " 'colombian',\n",
       " 'comedy',\n",
       " 'conjazz',\n",
       " 'contemporary',\n",
       " 'country',\n",
       " 'cuban',\n",
       " 'dance',\n",
       " 'dancehall',\n",
       " 'dancepop',\n",
       " 'dark',\n",
       " 'death',\n",
       " 'deep',\n",
       " 'deutschrock',\n",
       " 'deutschspr',\n",
       " 'dirty',\n",
       " 'disco',\n",
       " 'dnb',\n",
       " 'documentary',\n",
       " 'downbeat',\n",
       " 'downtempo',\n",
       " 'drum',\n",
       " 'dub',\n",
       " 'dubstep',\n",
       " 'eastern',\n",
       " 'easy',\n",
       " 'electronic',\n",
       " 'electropop',\n",
       " 'emo',\n",
       " 'entehno',\n",
       " 'epicmetal',\n",
       " 'estrada',\n",
       " 'ethnic',\n",
       " 'eurofolk',\n",
       " 'european',\n",
       " 'experimental',\n",
       " 'extrememetal',\n",
       " 'fado',\n",
       " 'fairytail',\n",
       " 'film',\n",
       " 'fitness',\n",
       " 'flamenco',\n",
       " 'folk',\n",
       " 'folklore',\n",
       " 'folkmetal',\n",
       " 'folkrock',\n",
       " 'folktronica',\n",
       " 'forró',\n",
       " 'frankreich',\n",
       " 'französisch',\n",
       " 'french',\n",
       " 'funk',\n",
       " 'future',\n",
       " 'gangsta',\n",
       " 'garage',\n",
       " 'german',\n",
       " 'ghazal',\n",
       " 'gitarre',\n",
       " 'glitch',\n",
       " 'gospel',\n",
       " 'gothic',\n",
       " 'grime',\n",
       " 'grunge',\n",
       " 'gypsy',\n",
       " 'handsup',\n",
       " \"hard'n'heavy\",\n",
       " 'hardcore',\n",
       " 'hardstyle',\n",
       " 'hardtechno',\n",
       " 'hiphop',\n",
       " 'historisch',\n",
       " 'holiday',\n",
       " 'horror',\n",
       " 'house',\n",
       " 'hymn',\n",
       " 'idm',\n",
       " 'independent',\n",
       " 'indian',\n",
       " 'indie',\n",
       " 'indipop',\n",
       " 'industrial',\n",
       " 'inspirational',\n",
       " 'instrumental',\n",
       " 'international',\n",
       " 'irish',\n",
       " 'jam',\n",
       " 'japanese',\n",
       " 'jazz',\n",
       " 'jewish',\n",
       " 'jpop',\n",
       " 'jungle',\n",
       " 'k-pop',\n",
       " 'karadeniz',\n",
       " 'karaoke',\n",
       " 'kayokyoku',\n",
       " 'korean',\n",
       " 'laiko',\n",
       " 'latin',\n",
       " 'latino',\n",
       " 'leftfield',\n",
       " 'local',\n",
       " 'lounge',\n",
       " 'loungeelectronic',\n",
       " 'lovers',\n",
       " 'malaysian',\n",
       " 'mandopop',\n",
       " 'marschmusik',\n",
       " 'meditative',\n",
       " 'mediterranean',\n",
       " 'melodic',\n",
       " 'metal',\n",
       " 'metalcore',\n",
       " 'mexican',\n",
       " 'middle',\n",
       " 'minimal',\n",
       " 'miscellaneous',\n",
       " 'modern',\n",
       " 'mood',\n",
       " 'mpb',\n",
       " 'muslim',\n",
       " 'native',\n",
       " 'neoklassik',\n",
       " 'neue',\n",
       " 'new',\n",
       " 'newage',\n",
       " 'newwave',\n",
       " 'nu',\n",
       " 'nujazz',\n",
       " 'numetal',\n",
       " 'oceania',\n",
       " 'old',\n",
       " 'opera',\n",
       " 'orchestral',\n",
       " 'other',\n",
       " 'piano',\n",
       " 'podcasts',\n",
       " 'pop',\n",
       " 'popdance',\n",
       " 'popelectronic',\n",
       " 'popeurodance',\n",
       " 'poprussian',\n",
       " 'post',\n",
       " 'posthardcore',\n",
       " 'postrock',\n",
       " 'power',\n",
       " 'progmetal',\n",
       " 'progressive',\n",
       " 'psychedelic',\n",
       " 'punjabi',\n",
       " 'punk',\n",
       " 'quebecois',\n",
       " 'ragga',\n",
       " 'ram',\n",
       " 'rancheras',\n",
       " 'rap',\n",
       " 'rave',\n",
       " 'reggae',\n",
       " 'reggaeton',\n",
       " 'regional',\n",
       " 'relax',\n",
       " 'religious',\n",
       " 'retro',\n",
       " 'rhythm',\n",
       " 'rnb',\n",
       " 'rnr',\n",
       " 'rock',\n",
       " 'rockabilly',\n",
       " 'rockalternative',\n",
       " 'rockindie',\n",
       " 'rockother',\n",
       " 'romance',\n",
       " 'roots',\n",
       " 'ruspop',\n",
       " 'rusrap',\n",
       " 'rusrock',\n",
       " 'russian',\n",
       " 'salsa',\n",
       " 'samba',\n",
       " 'scenic',\n",
       " 'schlager',\n",
       " 'self',\n",
       " 'sertanejo',\n",
       " 'shanson',\n",
       " 'shoegazing',\n",
       " 'showtunes',\n",
       " 'singer',\n",
       " 'ska',\n",
       " 'skarock',\n",
       " 'slow',\n",
       " 'smooth',\n",
       " 'soft',\n",
       " 'soul',\n",
       " 'soulful',\n",
       " 'sound',\n",
       " 'soundtrack',\n",
       " 'southern',\n",
       " 'specialty',\n",
       " 'speech',\n",
       " 'spiritual',\n",
       " 'sport',\n",
       " 'stonerrock',\n",
       " 'surf',\n",
       " 'swing',\n",
       " 'synthpop',\n",
       " 'synthrock',\n",
       " 'sängerportrait',\n",
       " 'tango',\n",
       " 'tanzorchester',\n",
       " 'taraftar',\n",
       " 'tatar',\n",
       " 'tech',\n",
       " 'techno',\n",
       " 'teen',\n",
       " 'thrash',\n",
       " 'top',\n",
       " 'traditional',\n",
       " 'tradjazz',\n",
       " 'trance',\n",
       " 'tribal',\n",
       " 'trip',\n",
       " 'triphop',\n",
       " 'tropical',\n",
       " 'türk',\n",
       " 'türkçe',\n",
       " 'ukrrock',\n",
       " 'unknown',\n",
       " 'urban',\n",
       " 'uzbek',\n",
       " 'variété',\n",
       " 'vi',\n",
       " 'videogame',\n",
       " 'vocal',\n",
       " 'western',\n",
       " 'world',\n",
       " 'worldbeat',\n",
       " 'ïîï',\n",
       " 'электроника']"
      ]
     },
     "execution_count": 17,
     "metadata": {},
     "output_type": "execute_result"
    }
   ],
   "source": [
    "sorted(df['genre'].unique())"
   ]
  },
  {
   "cell_type": "markdown",
   "metadata": {
    "id": "jz6a9-7HQUDd"
   },
   "source": [
    "**Выводы**\n",
    "\n",
    "Предобработка обнаружила три проблемы в данных:\n",
    "\n",
    "- нарушения в стиле заголовков,\n",
    "- пропущенные значения,\n",
    "- дубликаты — явные и неявные.\n",
    "\n",
    "Вы исправили заголовки, чтобы упростить работу с таблицей. Без дубликатов исследование станет более точным.\n",
    "\n",
    "Пропущенные значения вы заменили на `'unknown'`. Ещё предстоит увидеть, не повредят ли исследованию пропуски в колонке `genre`.\n",
    "\n",
    "Теперь можно перейти к проверке гипотез. "
   ]
  },
  {
   "cell_type": "markdown",
   "metadata": {
    "id": "WttZHXH0SqKk"
   },
   "source": [
    "## Проверка гипотез"
   ]
  },
  {
   "cell_type": "markdown",
   "metadata": {
    "id": "Im936VVi_Zcu"
   },
   "source": [
    "### Сравнение поведения пользователей двух столиц"
   ]
  },
  {
   "cell_type": "markdown",
   "metadata": {
    "id": "nwt_MuaL_Zcu"
   },
   "source": [
    "Первая гипотеза утверждает, что пользователи по-разному слушают музыку в Москве и Санкт-Петербурге. Проверьте это предположение по данным о трёх днях недели — понедельнике, среде и пятнице. Для этого:\n",
    "\n",
    "* Разделите пользователей Москвы и Санкт-Петербурга\n",
    "* Сравните, сколько треков послушала каждая группа пользователей в понедельник, среду и пятницу.\n"
   ]
  },
  {
   "cell_type": "markdown",
   "metadata": {
    "id": "8Dw_YMmT_Zcu"
   },
   "source": [
    "Для тренировки сначала выполните каждый из расчётов по отдельности. \n",
    "\n",
    "Оцените активность пользователей в каждом городе. Сгруппируйте данные по городу и посчитайте прослушивания в каждой группе.\n",
    "\n"
   ]
  },
  {
   "cell_type": "code",
   "execution_count": 18,
   "metadata": {
    "id": "0_Qs96oh_Zcu"
   },
   "outputs": [
    {
     "data": {
      "text/plain": [
       "city\n",
       "Moscow              42741\n",
       "Saint-Petersburg    18512\n",
       "Name: time, dtype: int64"
      ]
     },
     "execution_count": 18,
     "metadata": {},
     "output_type": "execute_result"
    }
   ],
   "source": [
    "# группирую по столбцу 'city' и считаю методом count()\n",
    "\n",
    "df.groupby('city')['time'].count()"
   ]
  },
  {
   "cell_type": "markdown",
   "metadata": {
    "id": "dzli3w8o_Zcu"
   },
   "source": [
    "В Москве прослушиваний больше, чем в Петербурге. Из этого не следует, что московские пользователи чаще слушают музыку. Просто самих пользователей в Москве больше.\n",
    "\n",
    "Теперь сгруппируйте данные по дню недели и подсчитайте прослушивания в понедельник, среду и пятницу. Учтите, что в данных есть информация только о прослушиваниях только за эти дни.\n"
   ]
  },
  {
   "cell_type": "code",
   "execution_count": 19,
   "metadata": {
    "id": "uZMKjiJz_Zcu"
   },
   "outputs": [
    {
     "data": {
      "text/plain": [
       "day\n",
       "Friday       21840\n",
       "Monday       21354\n",
       "Wednesday    18059\n",
       "Name: time, dtype: int64"
      ]
     },
     "execution_count": 19,
     "metadata": {},
     "output_type": "execute_result"
    }
   ],
   "source": [
    "# группирую по столбцу 'day' и считаю методом count()\n",
    "\n",
    "df.groupby('day')['time'].count()"
   ]
  },
  {
   "cell_type": "markdown",
   "metadata": {
    "id": "cC2tNrlL_Zcu"
   },
   "source": [
    "В среднем пользователи из двух городов менее активны по средам. Но картина может измениться, если рассмотреть каждый город в отдельности."
   ]
  },
  {
   "cell_type": "markdown",
   "metadata": {
    "id": "POzs8bGa_Zcu"
   },
   "source": [
    "Вы видели, как работает группировка по городу и по дням недели. Теперь напишите функцию, которая объединит два эти расчёта.\n",
    "\n",
    "Создайте функцию `number_tracks()`, которая посчитает прослушивания для заданного дня и города. Ей понадобятся два параметра:\n",
    "* день недели,\n",
    "* название города.\n",
    "\n",
    "В функции сохраните в переменную строки исходной таблицы, у которых значение:\n",
    "  * в колонке `day` равно параметру `day`,\n",
    "  * в колонке `city` равно параметру `city`.\n",
    "\n",
    "Для этого примените последовательную фильтрацию с логической индексацией.\n",
    "\n",
    "Затем посчитайте значения в столбце `user_id` получившейся таблицы. Результат сохраните в новую переменную. Верните эту переменную из функции."
   ]
  },
  {
   "cell_type": "code",
   "execution_count": 20,
   "metadata": {
    "id": "Nz3GdQB1_Zcu"
   },
   "outputs": [],
   "source": [
    "def number_tracks(day, city):\n",
    "    track_list = df[(df['day'] == day) & (df['city'] == city)]\n",
    "    track_list_count = track_list['user_id'].count()\n",
    "    return track_list_count\n",
    "\n",
    "\n",
    "# <создание функции number_tracks()>\n",
    "# Объявляется функция с двумя параметрами: day, city.\n",
    "\n",
    "# В переменной track_list сохраняются те строки таблицы df, для которых \n",
    "# значение в столбце 'day' равно параметру day и одновременно значение\n",
    "# в столбце 'city' равно параметру city (используйте последовательную фильтрацию\n",
    "# с помощью логической индексации).\n",
    "\n",
    "# В переменной track_list_count сохраняется число значений столбца 'user_id',\n",
    "# рассчитанное методом count() для таблицы track_list.\n",
    "# Функция возвращает число - значение track_list_count.\n",
    "\n",
    "# Функция для подсчёта прослушиваний для конкретного города и дня.\n",
    "# С помощью последовательной фильтрации с логической индексацией она \n",
    "# сначала получит из исходной таблицы строки с нужным днём,\n",
    "# затем из результата отфильтрует строки с нужным городом,\n",
    "# методом count() посчитает количество значений в колонке user_id. \n",
    "# Это количество функция вернёт в качестве результата"
   ]
  },
  {
   "cell_type": "markdown",
   "metadata": {
    "id": "ytf7xFrFJQ2r"
   },
   "source": [
    "Вызовите `number_tracks()` шесть раз, меняя значение параметров — так, чтобы получить данные для каждого города в каждый из трёх дней."
   ]
  },
  {
   "cell_type": "code",
   "execution_count": 21,
   "metadata": {
    "id": "rJcRATNQ_Zcu"
   },
   "outputs": [
    {
     "data": {
      "text/plain": [
       "15740"
      ]
     },
     "execution_count": 21,
     "metadata": {},
     "output_type": "execute_result"
    }
   ],
   "source": [
    "number_tracks('Monday', 'Moscow') # количество прослушиваний в Москве по понедельникам"
   ]
  },
  {
   "cell_type": "code",
   "execution_count": 22,
   "metadata": {
    "id": "hq_ncZ5T_Zcu"
   },
   "outputs": [
    {
     "data": {
      "text/plain": [
       "5614"
      ]
     },
     "execution_count": 22,
     "metadata": {},
     "output_type": "execute_result"
    }
   ],
   "source": [
    "number_tracks('Monday', 'Saint-Petersburg') # количество прослушиваний в Санкт-Петербурге по понедельникам"
   ]
  },
  {
   "cell_type": "code",
   "execution_count": 23,
   "metadata": {
    "id": "_NTy2VPU_Zcu"
   },
   "outputs": [
    {
     "data": {
      "text/plain": [
       "11056"
      ]
     },
     "execution_count": 23,
     "metadata": {},
     "output_type": "execute_result"
    }
   ],
   "source": [
    "number_tracks('Wednesday', 'Moscow') # количество прослушиваний в Москве по средам"
   ]
  },
  {
   "cell_type": "code",
   "execution_count": 24,
   "metadata": {
    "id": "j2y3TAwo_Zcu"
   },
   "outputs": [
    {
     "data": {
      "text/plain": [
       "7003"
      ]
     },
     "execution_count": 24,
     "metadata": {},
     "output_type": "execute_result"
    }
   ],
   "source": [
    "number_tracks('Wednesday', 'Saint-Petersburg') # количество прослушиваний в Санкт-Петербурге по средам"
   ]
  },
  {
   "cell_type": "code",
   "execution_count": 25,
   "metadata": {
    "id": "vYDw5u_K_Zcu"
   },
   "outputs": [
    {
     "data": {
      "text/plain": [
       "15945"
      ]
     },
     "execution_count": 25,
     "metadata": {},
     "output_type": "execute_result"
    }
   ],
   "source": [
    "number_tracks('Friday', 'Moscow') # количество прослушиваний в Москве по пятницам"
   ]
  },
  {
   "cell_type": "code",
   "execution_count": 26,
   "metadata": {
    "id": "8_yzFtW3_Zcu"
   },
   "outputs": [
    {
     "data": {
      "text/plain": [
       "5895"
      ]
     },
     "execution_count": 26,
     "metadata": {},
     "output_type": "execute_result"
    }
   ],
   "source": [
    "number_tracks('Friday', 'Saint-Petersburg') # количество прослушиваний в Санкт-Петербурге по пятницам"
   ]
  },
  {
   "cell_type": "markdown",
   "metadata": {
    "id": "7QXffbO-_Zcu"
   },
   "source": [
    "Создайте c помощью конструктора `pd.DataFrame` таблицу, где\n",
    "* названия колонок — `['city', 'monday', 'wednesday', 'friday']`;\n",
    "* данные — результаты, которые вы получили с помощью `number_tracks`."
   ]
  },
  {
   "cell_type": "code",
   "execution_count": 27,
   "metadata": {
    "id": "APAcLpOr_Zcu",
    "scrolled": false
   },
   "outputs": [
    {
     "data": {
      "text/html": [
       "<div>\n",
       "<style scoped>\n",
       "    .dataframe tbody tr th:only-of-type {\n",
       "        vertical-align: middle;\n",
       "    }\n",
       "\n",
       "    .dataframe tbody tr th {\n",
       "        vertical-align: top;\n",
       "    }\n",
       "\n",
       "    .dataframe thead th {\n",
       "        text-align: right;\n",
       "    }\n",
       "</style>\n",
       "<table border=\"1\" class=\"dataframe\">\n",
       "  <thead>\n",
       "    <tr style=\"text-align: right;\">\n",
       "      <th></th>\n",
       "      <th>city</th>\n",
       "      <th>monday</th>\n",
       "      <th>wednesday</th>\n",
       "      <th>friday</th>\n",
       "    </tr>\n",
       "  </thead>\n",
       "  <tbody>\n",
       "    <tr>\n",
       "      <td>0</td>\n",
       "      <td>Moscow</td>\n",
       "      <td>15740</td>\n",
       "      <td>11056</td>\n",
       "      <td>15945</td>\n",
       "    </tr>\n",
       "    <tr>\n",
       "      <td>1</td>\n",
       "      <td>Saint-Petersburg</td>\n",
       "      <td>5614</td>\n",
       "      <td>7003</td>\n",
       "      <td>5895</td>\n",
       "    </tr>\n",
       "  </tbody>\n",
       "</table>\n",
       "</div>"
      ],
      "text/plain": [
       "               city  monday  wednesday  friday\n",
       "0            Moscow   15740      11056   15945\n",
       "1  Saint-Petersburg    5614       7003    5895"
      ]
     },
     "execution_count": 27,
     "metadata": {},
     "output_type": "execute_result"
    }
   ],
   "source": [
    "data = [['Moscow', 15740, 11056, 15945],\n",
    "        ['Saint-Petersburg', 5614, 7003, 5895]]\n",
    "\n",
    "columns = ['city', 'monday', 'wednesday', 'friday']\n",
    "\n",
    "days_research_result = pd.DataFrame(data = data, columns = columns)\n",
    "\n",
    "days_research_result"
   ]
  },
  {
   "cell_type": "markdown",
   "metadata": {
    "id": "-EgPIHYu_Zcu"
   },
   "source": [
    "**Выводы**\n",
    "\n",
    "Данные показывают разницу поведения пользователей:\n",
    "\n",
    "- В Москве пик прослушиваний приходится на понедельник и пятницу, а в среду заметен спад.\n",
    "- В Петербурге, наоборот, больше слушают музыку по средам. Активность в понедельник и пятницу здесь почти в равной мере уступает среде.\n",
    "\n",
    "Значит, данные говорят в пользу первой гипотезы."
   ]
  },
  {
   "cell_type": "markdown",
   "metadata": {
    "id": "atZAxtq4_Zcu"
   },
   "source": [
    "### Музыка в начале и в конце недели"
   ]
  },
  {
   "cell_type": "markdown",
   "metadata": {
    "id": "eXrQqXFH_Zcu"
   },
   "source": [
    "Согласно второй гипотезе, утром в понедельник в Москве преобладают одни жанры, а в Петербурге — другие. Так же и вечером пятницы преобладают разные жанры — в зависимости от города."
   ]
  },
  {
   "cell_type": "markdown",
   "metadata": {
    "id": "S8UcW6Hw_Zcu"
   },
   "source": [
    "Сохраните таблицы с данными в две переменные:\n",
    "* по Москве — в `moscow_general`;\n",
    "* по Санкт-Петербургу — в `spb_general`."
   ]
  },
  {
   "cell_type": "code",
   "execution_count": 28,
   "metadata": {
    "id": "qeaFfM_P_Zcu"
   },
   "outputs": [],
   "source": [
    "# получение таблицы moscow_general из тех строк таблицы df, \n",
    "# для которых значение в столбце 'city' равно 'Moscow'\n",
    "\n",
    "moscow_general = df[df['city'] == 'Moscow']"
   ]
  },
  {
   "cell_type": "code",
   "execution_count": 29,
   "metadata": {
    "id": "ORaVRKto_Zcu"
   },
   "outputs": [],
   "source": [
    "# получение таблицы spb_general из тех строк таблицы df,\n",
    "# для которых значение в столбце 'city' равно 'Saint-Petersburg'\n",
    "\n",
    "spb_general = df[df['city'] == 'Saint-Petersburg']"
   ]
  },
  {
   "cell_type": "markdown",
   "metadata": {
    "id": "MEJV-CX2_Zcu"
   },
   "source": [
    "Создайте функцию `genre_weekday()` с четырьмя параметрами:\n",
    "* таблица (датафрейм) с данными,\n",
    "* день недели,\n",
    "* начальная временная метка в формате 'hh:mm', \n",
    "* последняя временная метка в формате 'hh:mm'.\n",
    "\n",
    "Функция должна вернуть информацию о топ-10 жанров тех треков, которые прослушивали в указанный день, в промежутке между двумя отметками времени."
   ]
  },
  {
   "cell_type": "code",
   "execution_count": 30,
   "metadata": {
    "id": "laJT9BYl_Zcu"
   },
   "outputs": [],
   "source": [
    "def genre_weekday(table, day, time1, time2):\n",
    "    \n",
    "    genre_df = table[(table['day'] == day) & (table['time'] > time1) & (table['time'] < time2)]\n",
    "    \n",
    "    genre_df_count = genre_df.groupby('genre')['genre'].count()\n",
    "    \n",
    "    genre_df_sorted = genre_df_count.sort_values(ascending = False).head(10)\n",
    "    \n",
    "    return genre_df_sorted   \n",
    "\n",
    "\n",
    "# Объявление функции genre_weekday() с параметрами table, day, time1, time2,\n",
    "# которая возвращает информацию о самых популярных жанрах в указанный день в\n",
    "# заданное время:\n",
    "# 1) в переменную genre_df сохраняются те строки переданного датафрейма table, для\n",
    "#    которых одновременно:\n",
    "#    - значение в столбце day равно значению аргумента day\n",
    "#    - значение в столбце time больше значения аргумента time1\n",
    "#    - значение в столбце time меньше значения аргумента time2\n",
    "#    Используйте последовательную фильтрацию с помощью логической индексации.\n",
    "# 2) сгруппировать датафрейм genre_df по столбцу genre, взять один из его\n",
    "#    столбцов и посчитать методом count() количество записей для каждого из\n",
    "#    присутствующих жанров, получившийся Series записать в переменную\n",
    "#    genre_df_count\n",
    "# 3) отсортировать genre_df_count по убыванию встречаемости и сохранить\n",
    "#    в переменную genre_df_sorted\n",
    "# 4) вернуть Series из 10 первых значений genre_df_sorted, это будут топ-10\n",
    "#    популярных жанров (в указанный день, в заданное время)"
   ]
  },
  {
   "cell_type": "markdown",
   "metadata": {
    "id": "la2s2_PF_Zcu"
   },
   "source": [
    "Cравните результаты функции `genre_weekday()` для Москвы и Санкт-Петербурга в понедельник утром (с 7:00 до 11:00) и в пятницу вечером (с 17:00 до 23:00):"
   ]
  },
  {
   "cell_type": "code",
   "execution_count": 31,
   "metadata": {
    "id": "yz7itPUQ_Zcu"
   },
   "outputs": [
    {
     "data": {
      "text/plain": [
       "genre\n",
       "pop            781\n",
       "dance          549\n",
       "electronic     480\n",
       "rock           474\n",
       "hiphop         286\n",
       "ruspop         186\n",
       "world          181\n",
       "rusrap         175\n",
       "alternative    164\n",
       "unknown        161\n",
       "Name: genre, dtype: int64"
      ]
     },
     "execution_count": 31,
     "metadata": {},
     "output_type": "execute_result"
    }
   ],
   "source": [
    "# вызов функции для утра понедельника в Москве (вместо df — таблица moscow_general)\n",
    "# объекты, хранящие время, являются строками и сравниваются как строки\n",
    "# пример вызова: genre_weekday(moscow_general, 'Monday', '07:00', '11:00')\n",
    "\n",
    "genre_weekday(moscow_general, 'Monday', '07:00', '11:00')"
   ]
  },
  {
   "cell_type": "code",
   "execution_count": 32,
   "metadata": {
    "id": "kwUcHPdy_Zcu"
   },
   "outputs": [
    {
     "data": {
      "text/plain": [
       "genre\n",
       "pop            218\n",
       "dance          182\n",
       "rock           162\n",
       "electronic     147\n",
       "hiphop          80\n",
       "ruspop          64\n",
       "alternative     58\n",
       "rusrap          55\n",
       "jazz            44\n",
       "classical       40\n",
       "Name: genre, dtype: int64"
      ]
     },
     "execution_count": 32,
     "metadata": {},
     "output_type": "execute_result"
    }
   ],
   "source": [
    "# вызов функции для утра понедельника в Петербурге (вместо df — таблица spb_general)\n",
    "\n",
    "genre_weekday(spb_general, 'Monday', '07:00', '11:00')"
   ]
  },
  {
   "cell_type": "code",
   "execution_count": 33,
   "metadata": {
    "id": "EzXVRE1o_Zcu"
   },
   "outputs": [
    {
     "data": {
      "text/plain": [
       "genre\n",
       "pop            713\n",
       "rock           517\n",
       "dance          495\n",
       "electronic     482\n",
       "hiphop         273\n",
       "world          208\n",
       "ruspop         170\n",
       "alternative    163\n",
       "classical      163\n",
       "rusrap         142\n",
       "Name: genre, dtype: int64"
      ]
     },
     "execution_count": 33,
     "metadata": {},
     "output_type": "execute_result"
    }
   ],
   "source": [
    "# вызов функции для вечера пятницы в Москве\n",
    "\n",
    "genre_weekday(moscow_general, 'Friday', '17:00', '23:00')"
   ]
  },
  {
   "cell_type": "code",
   "execution_count": 34,
   "metadata": {
    "id": "JZaEKu5v_Zcu"
   },
   "outputs": [
    {
     "data": {
      "text/plain": [
       "genre\n",
       "pop            256\n",
       "rock           216\n",
       "electronic     216\n",
       "dance          210\n",
       "hiphop          97\n",
       "alternative     63\n",
       "jazz            61\n",
       "classical       60\n",
       "rusrap          59\n",
       "world           54\n",
       "Name: genre, dtype: int64"
      ]
     },
     "execution_count": 34,
     "metadata": {},
     "output_type": "execute_result"
    }
   ],
   "source": [
    "# вызов функции для вечера пятницы в Петербурге\n",
    "\n",
    "genre_weekday(spb_general, 'Friday', '17:00', '23:00')"
   ]
  },
  {
   "cell_type": "markdown",
   "metadata": {
    "id": "wrCe4MNX_Zcu"
   },
   "source": [
    "**Выводы**\n",
    "\n",
    "Если сравнить топ-10 жанров в понедельник утром, можно сделать такие выводы:\n",
    "\n",
    "1. В Москве и Петербурге слушают похожую музыку. Единственное отличие — в московский рейтинг вошёл жанр “world”, а в петербургский — джаз и классика.\n",
    "\n",
    "2. В Москве пропущенных значений оказалось так много, что значение `'unknown'` заняло десятое место среди самых популярных жанров. Значит, пропущенные значения занимают существенную долю в данных и угрожают достоверности исследования.\n",
    "\n",
    "Вечер пятницы не меняет эту картину. Некоторые жанры поднимаются немного выше, другие спускаются, но в целом топ-10 остаётся тем же самым.\n",
    "\n",
    "Таким образом, вторая гипотеза подтвердилась лишь частично:\n",
    "* Пользователи слушают похожую музыку в начале недели и в конце.\n",
    "* Разница между Москвой и Петербургом не слишком выражена. В Москве чаще слушают русскую популярную музыку, в Петербурге — джаз.\n",
    "\n",
    "Однако пропуски в данных ставят под сомнение этот результат. В Москве их так много, что рейтинг топ-10 мог бы выглядеть иначе, если бы не утерянные  данные о жанрах."
   ]
  },
  {
   "cell_type": "markdown",
   "metadata": {
    "id": "JolODAqr_Zcu"
   },
   "source": [
    "### Жанровые предпочтения в Москве и Петербурге\n",
    "\n",
    "Гипотеза: Петербург — столица рэпа, музыку этого жанра там слушают чаще, чем в Москве.  А Москва — город контрастов, в котором, тем не менее, преобладает поп-музыка."
   ]
  },
  {
   "cell_type": "markdown",
   "metadata": {
    "id": "DlegSvaT_Zcu"
   },
   "source": [
    "Сгруппируйте таблицу `moscow_general` по жанру и посчитайте прослушивания треков каждого жанра методом `count()`. Затем отсортируйте результат в порядке убывания и сохраните его в таблице `moscow_genres`."
   ]
  },
  {
   "cell_type": "code",
   "execution_count": 35,
   "metadata": {
    "id": "r19lIPke_Zcu"
   },
   "outputs": [],
   "source": [
    "# одной строкой: группировка таблицы moscow_general по столбцу 'genre', \n",
    "# подсчёт числа значений 'genre' в этой группировке методом count(), \n",
    "# сортировка получившегося Series в порядке убывания и сохранение в moscow_genres\n",
    "\n",
    "moscow_genres = moscow_general.groupby('genre')['genre'].count().sort_values(ascending = False)"
   ]
  },
  {
   "cell_type": "markdown",
   "metadata": {
    "id": "6kMuomxTiIr8"
   },
   "source": [
    "Выведите на экран первые десять строк `moscow_genres`:"
   ]
  },
  {
   "cell_type": "code",
   "execution_count": 36,
   "metadata": {
    "id": "WhCSooF8_Zcv"
   },
   "outputs": [
    {
     "data": {
      "text/plain": [
       "genre\n",
       "pop            5892\n",
       "dance          4435\n",
       "rock           3965\n",
       "electronic     3786\n",
       "hiphop         2096\n",
       "classical      1616\n",
       "world          1432\n",
       "alternative    1379\n",
       "ruspop         1372\n",
       "rusrap         1161\n",
       "Name: genre, dtype: int64"
      ]
     },
     "execution_count": 36,
     "metadata": {},
     "output_type": "execute_result"
    }
   ],
   "source": [
    "# просмотр первых 10 строк moscow_genres\n",
    "\n",
    "moscow_genres.head(10)"
   ]
  },
  {
   "cell_type": "markdown",
   "metadata": {
    "id": "cnPG2vnN_Zcv"
   },
   "source": [
    "Теперь повторите то же и для Петербурга.\n",
    "\n",
    "Сгруппируйте таблицу `spb_general` по жанру. Посчитайте прослушивания треков каждого жанра. Результат отсортируйте в порядке убывания и сохраните в таблице `spb_genres`:\n"
   ]
  },
  {
   "cell_type": "code",
   "execution_count": 37,
   "metadata": {
    "id": "gluLIpE7_Zcv"
   },
   "outputs": [],
   "source": [
    "# одной строкой: группировка таблицы spb_general по столбцу 'genre', \n",
    "# подсчёт числа значений 'genre' в этой группировке методом count(), \n",
    "# сортировка получившегося Series в порядке убывания и сохранение в spb_genres\n",
    "\n",
    "spb_genres = spb_general.groupby('genre')['genre'].count().sort_values(ascending = False)"
   ]
  },
  {
   "cell_type": "markdown",
   "metadata": {
    "id": "5Doha_ODgyQ8"
   },
   "source": [
    "Выведите на экран первые десять строк `spb_genres`:"
   ]
  },
  {
   "cell_type": "code",
   "execution_count": 38,
   "metadata": {
    "id": "uaGJHjVU_Zcv"
   },
   "outputs": [
    {
     "data": {
      "text/plain": [
       "genre\n",
       "pop            2431\n",
       "dance          1932\n",
       "rock           1879\n",
       "electronic     1736\n",
       "hiphop          960\n",
       "alternative     649\n",
       "classical       646\n",
       "rusrap          564\n",
       "ruspop          538\n",
       "world           515\n",
       "Name: genre, dtype: int64"
      ]
     },
     "execution_count": 38,
     "metadata": {},
     "output_type": "execute_result"
    }
   ],
   "source": [
    "# просмотр первых 10 строк spb_genres\n",
    "\n",
    "spb_genres.head(10)"
   ]
  },
  {
   "cell_type": "markdown",
   "metadata": {
    "id": "RY51YJYu_Zcv"
   },
   "source": [
    "**Выводы**"
   ]
  },
  {
   "cell_type": "markdown",
   "metadata": {
    "id": "nVhnJEm__Zcv"
   },
   "source": [
    "Гипотеза частично подтвердилась:\n",
    "* Поп-музыка — самый популярный жанр в Москве, как и предполагала гипотеза. Более того, в топ-10 жанров встречается близкий жанр — русская популярная музыка.\n",
    "* Вопреки ожиданиям, рэп одинаково популярен в Москве и Петербурге. \n"
   ]
  },
  {
   "cell_type": "markdown",
   "metadata": {
    "id": "ykKQ0N65_Zcv"
   },
   "source": [
    "## Итоги исследования"
   ]
  },
  {
   "cell_type": "markdown",
   "metadata": {
    "id": "tjUwbHb3_Zcv"
   },
   "source": [
    "Вы проверили три гипотезы и установили:\n",
    "\n",
    "1. День недели по-разному влияет на активность пользователей в Москве и Петербурге. \n",
    "\n",
    "Первая гипотеза полностью подтвердилась.\n",
    "\n",
    "2. Музыкальные предпочтения не сильно меняются в течение недели — будь то Москва или Петербург. Небольшие различия заметны в начале недели, по понедельникам:\n",
    "* в Москве слушают музыку жанра “world”,\n",
    "* в Петербурге — джаз и классику.\n",
    "\n",
    "Таким образом, вторая гипотеза подтвердилась лишь отчасти. Этот результат мог оказаться иным, если бы не пропуски в данных.\n",
    "\n",
    "3. Во вкусах пользователей Москвы и Петербурга больше общего чем различий. Вопреки ожиданиям, предпочтения жанров в Петербурге напоминают московские.\n",
    "\n",
    "Третья гипотеза не подтвердилась. Если различия в предпочтениях и существуют, на основной массе пользователей они незаметны.\n",
    "\n",
    "**На практике исследования содержат проверки статистических гипотез.**\n",
    "Из данных одного сервиса не всегда можно сделать вывод о всех жителях города.\n",
    "Проверки статистических гипотез покажут, насколько они достоверны, исходя из имеющихся данных."
   ]
  }
 ],
 "metadata": {
  "ExecuteTimeLog": [
   {
    "duration": 436,
    "start_time": "2021-12-16T17:35:25.482Z"
   },
   {
    "duration": 366,
    "start_time": "2021-12-16T17:36:10.357Z"
   },
   {
    "duration": 378,
    "start_time": "2021-12-16T17:36:53.574Z"
   },
   {
    "duration": 418,
    "start_time": "2021-12-16T17:37:20.437Z"
   },
   {
    "duration": 389,
    "start_time": "2021-12-16T17:40:30.387Z"
   },
   {
    "duration": 366,
    "start_time": "2021-12-16T17:40:57.505Z"
   },
   {
    "duration": 775,
    "start_time": "2021-12-16T17:41:12.071Z"
   },
   {
    "duration": 185,
    "start_time": "2021-12-16T17:41:17.461Z"
   },
   {
    "duration": 25,
    "start_time": "2021-12-16T17:41:23.149Z"
   },
   {
    "duration": 12,
    "start_time": "2021-12-16T17:42:18.671Z"
   },
   {
    "duration": 5,
    "start_time": "2021-12-16T18:08:09.135Z"
   },
   {
    "duration": 126,
    "start_time": "2021-12-16T18:13:36.550Z"
   },
   {
    "duration": 41,
    "start_time": "2021-12-16T18:17:00.512Z"
   },
   {
    "duration": 6,
    "start_time": "2021-12-16T18:17:42.826Z"
   },
   {
    "duration": 5,
    "start_time": "2021-12-16T18:20:49.966Z"
   },
   {
    "duration": 5,
    "start_time": "2021-12-16T18:21:18.399Z"
   },
   {
    "duration": 39,
    "start_time": "2021-12-16T18:21:29.040Z"
   },
   {
    "duration": 6,
    "start_time": "2021-12-16T18:21:32.414Z"
   },
   {
    "duration": 5,
    "start_time": "2021-12-16T18:21:48.044Z"
   },
   {
    "duration": 5,
    "start_time": "2021-12-16T18:21:57.704Z"
   },
   {
    "duration": 39,
    "start_time": "2021-12-16T18:22:29.932Z"
   },
   {
    "duration": 6,
    "start_time": "2021-12-16T18:22:34.177Z"
   },
   {
    "duration": 33,
    "start_time": "2021-12-16T18:30:11.721Z"
   },
   {
    "duration": 33,
    "start_time": "2021-12-16T18:30:17.004Z"
   },
   {
    "duration": 6,
    "start_time": "2021-12-16T18:30:20.856Z"
   },
   {
    "duration": 5,
    "start_time": "2021-12-16T18:30:22.775Z"
   },
   {
    "duration": 6,
    "start_time": "2021-12-16T18:30:30.124Z"
   },
   {
    "duration": 6,
    "start_time": "2021-12-16T18:30:56.795Z"
   },
   {
    "duration": 5,
    "start_time": "2021-12-16T18:34:07.281Z"
   },
   {
    "duration": 6,
    "start_time": "2021-12-16T18:34:52.977Z"
   },
   {
    "duration": 34,
    "start_time": "2021-12-16T18:34:57.910Z"
   },
   {
    "duration": 6,
    "start_time": "2021-12-16T18:35:02.445Z"
   },
   {
    "duration": 13,
    "start_time": "2021-12-16T18:35:44.360Z"
   },
   {
    "duration": 5,
    "start_time": "2021-12-16T18:36:19.301Z"
   },
   {
    "duration": 4,
    "start_time": "2021-12-16T18:40:17.933Z"
   },
   {
    "duration": 690,
    "start_time": "2021-12-16T18:40:17.940Z"
   },
   {
    "duration": 18,
    "start_time": "2021-12-16T18:40:18.633Z"
   },
   {
    "duration": 15,
    "start_time": "2021-12-16T18:40:18.661Z"
   },
   {
    "duration": 6,
    "start_time": "2021-12-16T18:40:18.679Z"
   },
   {
    "duration": 34,
    "start_time": "2021-12-16T18:40:18.687Z"
   },
   {
    "duration": 7,
    "start_time": "2021-12-16T18:40:18.761Z"
   },
   {
    "duration": 15,
    "start_time": "2021-12-16T18:40:18.771Z"
   },
   {
    "duration": 4,
    "start_time": "2021-12-16T18:40:18.789Z"
   },
   {
    "duration": 6,
    "start_time": "2021-12-16T18:40:18.795Z"
   },
   {
    "duration": 8,
    "start_time": "2021-12-16T18:40:18.803Z"
   },
   {
    "duration": 48,
    "start_time": "2021-12-16T18:40:18.813Z"
   },
   {
    "duration": 6,
    "start_time": "2021-12-16T18:40:18.863Z"
   },
   {
    "duration": 5,
    "start_time": "2021-12-16T18:40:18.871Z"
   },
   {
    "duration": 9,
    "start_time": "2021-12-16T18:40:18.878Z"
   },
   {
    "duration": 6,
    "start_time": "2021-12-16T18:40:18.889Z"
   },
   {
    "duration": 7,
    "start_time": "2021-12-16T18:40:18.898Z"
   },
   {
    "duration": 5,
    "start_time": "2021-12-16T18:40:18.907Z"
   },
   {
    "duration": 4,
    "start_time": "2021-12-16T18:40:18.917Z"
   },
   {
    "duration": 37,
    "start_time": "2021-12-16T18:40:18.923Z"
   },
   {
    "duration": 7,
    "start_time": "2021-12-16T18:40:18.963Z"
   },
   {
    "duration": 4,
    "start_time": "2021-12-16T18:40:18.973Z"
   },
   {
    "duration": 6,
    "start_time": "2021-12-16T18:40:18.979Z"
   },
   {
    "duration": 6,
    "start_time": "2021-12-16T18:40:18.987Z"
   },
   {
    "duration": 4,
    "start_time": "2021-12-16T18:40:18.996Z"
   },
   {
    "duration": 8,
    "start_time": "2021-12-16T18:40:19.002Z"
   },
   {
    "duration": 4,
    "start_time": "2021-12-16T18:40:19.012Z"
   },
   {
    "duration": 40,
    "start_time": "2021-12-16T18:40:19.019Z"
   },
   {
    "duration": 8,
    "start_time": "2021-12-16T18:40:19.062Z"
   },
   {
    "duration": 5,
    "start_time": "2021-12-16T18:40:19.073Z"
   },
   {
    "duration": 8,
    "start_time": "2021-12-16T18:40:19.080Z"
   },
   {
    "duration": 7,
    "start_time": "2021-12-16T18:40:19.090Z"
   },
   {
    "duration": 10,
    "start_time": "2021-12-16T18:40:19.099Z"
   },
   {
    "duration": 9,
    "start_time": "2021-12-16T18:40:19.112Z"
   },
   {
    "duration": 5,
    "start_time": "2021-12-16T18:40:19.124Z"
   },
   {
    "duration": 29,
    "start_time": "2021-12-16T18:40:19.132Z"
   },
   {
    "duration": 8,
    "start_time": "2021-12-16T18:40:19.164Z"
   },
   {
    "duration": 4,
    "start_time": "2021-12-16T18:40:19.174Z"
   },
   {
    "duration": 24,
    "start_time": "2021-12-16T19:07:54.846Z"
   },
   {
    "duration": 29,
    "start_time": "2021-12-16T19:08:00.936Z"
   },
   {
    "duration": 17,
    "start_time": "2021-12-16T19:08:12.358Z"
   },
   {
    "duration": 6,
    "start_time": "2021-12-16T19:08:16.766Z"
   },
   {
    "duration": 32,
    "start_time": "2021-12-16T19:11:15.545Z"
   },
   {
    "duration": 258,
    "start_time": "2021-12-18T18:38:05.906Z"
   },
   {
    "duration": 542,
    "start_time": "2021-12-18T18:38:26.939Z"
   },
   {
    "duration": 168,
    "start_time": "2021-12-18T18:38:27.483Z"
   },
   {
    "duration": 15,
    "start_time": "2021-12-18T18:38:27.653Z"
   },
   {
    "duration": 7,
    "start_time": "2021-12-18T18:38:27.670Z"
   },
   {
    "duration": 11,
    "start_time": "2021-12-18T18:38:27.679Z"
   },
   {
    "duration": 21,
    "start_time": "2021-12-18T18:38:27.691Z"
   },
   {
    "duration": 4,
    "start_time": "2021-12-18T18:38:27.714Z"
   },
   {
    "duration": 24,
    "start_time": "2021-12-18T18:38:27.720Z"
   },
   {
    "duration": 260,
    "start_time": "2021-12-18T18:38:27.746Z"
   },
   {
    "duration": -62,
    "start_time": "2021-12-18T18:38:28.070Z"
   },
   {
    "duration": -67,
    "start_time": "2021-12-18T18:38:28.076Z"
   },
   {
    "duration": -76,
    "start_time": "2021-12-18T18:38:28.086Z"
   },
   {
    "duration": -85,
    "start_time": "2021-12-18T18:38:28.095Z"
   },
   {
    "duration": -88,
    "start_time": "2021-12-18T18:38:28.099Z"
   },
   {
    "duration": -94,
    "start_time": "2021-12-18T18:38:28.106Z"
   },
   {
    "duration": -98,
    "start_time": "2021-12-18T18:38:28.111Z"
   },
   {
    "duration": -101,
    "start_time": "2021-12-18T18:38:28.115Z"
   },
   {
    "duration": -105,
    "start_time": "2021-12-18T18:38:28.121Z"
   },
   {
    "duration": -111,
    "start_time": "2021-12-18T18:38:28.127Z"
   },
   {
    "duration": -113,
    "start_time": "2021-12-18T18:38:28.130Z"
   },
   {
    "duration": -119,
    "start_time": "2021-12-18T18:38:28.137Z"
   },
   {
    "duration": -122,
    "start_time": "2021-12-18T18:38:28.141Z"
   },
   {
    "duration": -126,
    "start_time": "2021-12-18T18:38:28.146Z"
   },
   {
    "duration": -129,
    "start_time": "2021-12-18T18:38:28.150Z"
   },
   {
    "duration": -134,
    "start_time": "2021-12-18T18:38:28.156Z"
   },
   {
    "duration": -138,
    "start_time": "2021-12-18T18:38:28.160Z"
   },
   {
    "duration": -141,
    "start_time": "2021-12-18T18:38:28.164Z"
   },
   {
    "duration": -154,
    "start_time": "2021-12-18T18:38:28.178Z"
   },
   {
    "duration": -158,
    "start_time": "2021-12-18T18:38:28.183Z"
   },
   {
    "duration": -161,
    "start_time": "2021-12-18T18:38:28.187Z"
   },
   {
    "duration": -165,
    "start_time": "2021-12-18T18:38:28.192Z"
   },
   {
    "duration": -168,
    "start_time": "2021-12-18T18:38:28.196Z"
   },
   {
    "duration": -172,
    "start_time": "2021-12-18T18:38:28.201Z"
   },
   {
    "duration": -176,
    "start_time": "2021-12-18T18:38:28.205Z"
   },
   {
    "duration": -179,
    "start_time": "2021-12-18T18:38:28.209Z"
   },
   {
    "duration": -182,
    "start_time": "2021-12-18T18:38:28.213Z"
   },
   {
    "duration": -185,
    "start_time": "2021-12-18T18:38:28.217Z"
   },
   {
    "duration": -189,
    "start_time": "2021-12-18T18:38:28.221Z"
   },
   {
    "duration": 17,
    "start_time": "2021-12-18T18:41:56.641Z"
   },
   {
    "duration": 22,
    "start_time": "2021-12-18T18:42:22.956Z"
   },
   {
    "duration": 232,
    "start_time": "2021-12-18T18:43:12.434Z"
   },
   {
    "duration": 56,
    "start_time": "2021-12-18T18:45:25.139Z"
   },
   {
    "duration": 51,
    "start_time": "2021-12-18T18:45:57.241Z"
   },
   {
    "duration": 73,
    "start_time": "2021-12-18T18:46:23.374Z"
   },
   {
    "duration": 52,
    "start_time": "2021-12-18T18:48:30.683Z"
   },
   {
    "duration": 432,
    "start_time": "2021-12-19T12:21:48.248Z"
   },
   {
    "duration": 349,
    "start_time": "2021-12-19T12:22:11.468Z"
   },
   {
    "duration": 277,
    "start_time": "2021-12-19T12:22:37.273Z"
   },
   {
    "duration": 289,
    "start_time": "2021-12-19T12:22:48.144Z"
   },
   {
    "duration": 794,
    "start_time": "2021-12-19T12:22:55.459Z"
   },
   {
    "duration": 283,
    "start_time": "2021-12-19T12:22:56.255Z"
   },
   {
    "duration": 35,
    "start_time": "2021-12-19T12:22:56.543Z"
   },
   {
    "duration": 17,
    "start_time": "2021-12-19T12:22:56.582Z"
   },
   {
    "duration": 7,
    "start_time": "2021-12-19T12:22:56.602Z"
   },
   {
    "duration": 65,
    "start_time": "2021-12-19T12:22:56.612Z"
   },
   {
    "duration": 7,
    "start_time": "2021-12-19T12:22:56.681Z"
   },
   {
    "duration": 30,
    "start_time": "2021-12-19T12:22:56.690Z"
   },
   {
    "duration": 54,
    "start_time": "2021-12-19T12:22:56.724Z"
   },
   {
    "duration": 31,
    "start_time": "2021-12-19T12:22:56.781Z"
   },
   {
    "duration": 111,
    "start_time": "2021-12-19T12:22:56.815Z"
   },
   {
    "duration": 105,
    "start_time": "2021-12-19T12:22:56.929Z"
   },
   {
    "duration": 4,
    "start_time": "2021-12-19T12:22:57.037Z"
   },
   {
    "duration": 4,
    "start_time": "2021-12-19T12:22:57.044Z"
   },
   {
    "duration": 3,
    "start_time": "2021-12-19T12:22:57.064Z"
   },
   {
    "duration": 4,
    "start_time": "2021-12-19T12:22:57.070Z"
   },
   {
    "duration": 5,
    "start_time": "2021-12-19T12:22:57.077Z"
   },
   {
    "duration": 5,
    "start_time": "2021-12-19T12:22:57.084Z"
   },
   {
    "duration": 4,
    "start_time": "2021-12-19T12:22:57.092Z"
   },
   {
    "duration": 5,
    "start_time": "2021-12-19T12:22:57.099Z"
   },
   {
    "duration": 56,
    "start_time": "2021-12-19T12:22:57.107Z"
   },
   {
    "duration": 4,
    "start_time": "2021-12-19T12:22:57.166Z"
   },
   {
    "duration": 4,
    "start_time": "2021-12-19T12:22:57.173Z"
   },
   {
    "duration": 4,
    "start_time": "2021-12-19T12:22:57.180Z"
   },
   {
    "duration": 4,
    "start_time": "2021-12-19T12:22:57.187Z"
   },
   {
    "duration": 6,
    "start_time": "2021-12-19T12:22:57.194Z"
   },
   {
    "duration": 4,
    "start_time": "2021-12-19T12:22:57.207Z"
   },
   {
    "duration": 49,
    "start_time": "2021-12-19T12:22:57.214Z"
   },
   {
    "duration": 4,
    "start_time": "2021-12-19T12:22:57.266Z"
   },
   {
    "duration": 5,
    "start_time": "2021-12-19T12:22:57.272Z"
   },
   {
    "duration": 7,
    "start_time": "2021-12-19T12:22:57.280Z"
   },
   {
    "duration": 4,
    "start_time": "2021-12-19T12:22:57.289Z"
   },
   {
    "duration": 6,
    "start_time": "2021-12-19T12:22:57.296Z"
   },
   {
    "duration": 5,
    "start_time": "2021-12-19T12:22:57.305Z"
   },
   {
    "duration": 4,
    "start_time": "2021-12-19T12:22:57.312Z"
   },
   {
    "duration": 48,
    "start_time": "2021-12-19T12:22:57.318Z"
   },
   {
    "duration": 4,
    "start_time": "2021-12-19T12:22:57.369Z"
   },
   {
    "duration": 3,
    "start_time": "2021-12-19T12:22:57.376Z"
   },
   {
    "duration": 75,
    "start_time": "2021-12-19T12:23:43.242Z"
   },
   {
    "duration": 351,
    "start_time": "2021-12-21T15:30:47.508Z"
   },
   {
    "duration": 248,
    "start_time": "2021-12-21T15:31:39.429Z"
   },
   {
    "duration": 319,
    "start_time": "2021-12-21T17:48:30.686Z"
   },
   {
    "duration": 735,
    "start_time": "2021-12-21T17:48:41.279Z"
   },
   {
    "duration": 179,
    "start_time": "2021-12-21T17:48:42.017Z"
   },
   {
    "duration": 32,
    "start_time": "2021-12-21T17:48:42.200Z"
   },
   {
    "duration": 27,
    "start_time": "2021-12-21T17:48:42.234Z"
   },
   {
    "duration": 26,
    "start_time": "2021-12-21T17:48:42.263Z"
   },
   {
    "duration": 38,
    "start_time": "2021-12-21T17:48:42.291Z"
   },
   {
    "duration": 16,
    "start_time": "2021-12-21T17:48:42.332Z"
   },
   {
    "duration": 35,
    "start_time": "2021-12-21T17:48:42.351Z"
   },
   {
    "duration": 38,
    "start_time": "2021-12-21T17:48:42.390Z"
   },
   {
    "duration": 29,
    "start_time": "2021-12-21T17:48:42.431Z"
   },
   {
    "duration": 101,
    "start_time": "2021-12-21T17:48:42.463Z"
   },
   {
    "duration": 108,
    "start_time": "2021-12-21T17:48:42.566Z"
   },
   {
    "duration": 115,
    "start_time": "2021-12-21T17:48:42.677Z"
   },
   {
    "duration": 12,
    "start_time": "2021-12-21T17:48:42.796Z"
   },
   {
    "duration": 4,
    "start_time": "2021-12-21T17:48:42.824Z"
   },
   {
    "duration": 31,
    "start_time": "2021-12-21T17:48:42.830Z"
   },
   {
    "duration": 21,
    "start_time": "2021-12-21T17:48:42.863Z"
   },
   {
    "duration": 23,
    "start_time": "2021-12-21T17:48:42.887Z"
   },
   {
    "duration": 22,
    "start_time": "2021-12-21T17:48:42.913Z"
   },
   {
    "duration": 29,
    "start_time": "2021-12-21T17:48:42.937Z"
   },
   {
    "duration": 35,
    "start_time": "2021-12-21T17:48:42.969Z"
   },
   {
    "duration": 34,
    "start_time": "2021-12-21T17:48:43.007Z"
   },
   {
    "duration": 11,
    "start_time": "2021-12-21T17:48:43.043Z"
   },
   {
    "duration": 33,
    "start_time": "2021-12-21T17:48:43.056Z"
   },
   {
    "duration": 14,
    "start_time": "2021-12-21T17:48:43.091Z"
   },
   {
    "duration": 37,
    "start_time": "2021-12-21T17:48:43.107Z"
   },
   {
    "duration": 17,
    "start_time": "2021-12-21T17:48:43.149Z"
   },
   {
    "duration": 28,
    "start_time": "2021-12-21T17:48:43.169Z"
   },
   {
    "duration": 16,
    "start_time": "2021-12-21T17:48:43.200Z"
   },
   {
    "duration": 33,
    "start_time": "2021-12-21T17:48:43.219Z"
   },
   {
    "duration": 26,
    "start_time": "2021-12-21T17:48:43.255Z"
   },
   {
    "duration": 22,
    "start_time": "2021-12-21T17:48:43.283Z"
   },
   {
    "duration": 33,
    "start_time": "2021-12-21T17:48:43.307Z"
   },
   {
    "duration": 38,
    "start_time": "2021-12-21T17:48:43.342Z"
   },
   {
    "duration": 28,
    "start_time": "2021-12-21T17:48:43.383Z"
   },
   {
    "duration": 31,
    "start_time": "2021-12-21T17:48:43.413Z"
   },
   {
    "duration": 32,
    "start_time": "2021-12-21T17:48:43.446Z"
   },
   {
    "duration": 13,
    "start_time": "2021-12-21T17:48:43.481Z"
   },
   {
    "duration": 15,
    "start_time": "2021-12-21T17:49:15.435Z"
   },
   {
    "duration": 281,
    "start_time": "2021-12-21T18:05:09.136Z"
   },
   {
    "duration": 92,
    "start_time": "2021-12-21T18:07:15.499Z"
   },
   {
    "duration": 101,
    "start_time": "2021-12-21T18:08:05.476Z"
   },
   {
    "duration": 99,
    "start_time": "2021-12-21T18:08:28.017Z"
   },
   {
    "duration": 15,
    "start_time": "2021-12-21T18:08:39.737Z"
   },
   {
    "duration": 5,
    "start_time": "2021-12-21T18:10:23.095Z"
   },
   {
    "duration": 14,
    "start_time": "2021-12-21T18:10:26.147Z"
   },
   {
    "duration": 14,
    "start_time": "2021-12-21T18:11:08.010Z"
   },
   {
    "duration": 41,
    "start_time": "2021-12-21T18:16:26.116Z"
   },
   {
    "duration": 15,
    "start_time": "2021-12-21T18:19:18.529Z"
   },
   {
    "duration": 44,
    "start_time": "2021-12-21T18:19:42.095Z"
   },
   {
    "duration": 15,
    "start_time": "2021-12-21T18:19:57.183Z"
   },
   {
    "duration": 312,
    "start_time": "2021-12-21T18:22:14.407Z"
   },
   {
    "duration": 266,
    "start_time": "2021-12-21T18:23:14.606Z"
   },
   {
    "duration": 330,
    "start_time": "2021-12-22T13:05:14.786Z"
   },
   {
    "duration": 758,
    "start_time": "2021-12-22T13:05:24.626Z"
   },
   {
    "duration": 188,
    "start_time": "2021-12-22T13:05:25.387Z"
   },
   {
    "duration": 24,
    "start_time": "2021-12-22T13:05:25.578Z"
   },
   {
    "duration": 12,
    "start_time": "2021-12-22T13:05:25.617Z"
   },
   {
    "duration": 9,
    "start_time": "2021-12-22T13:05:25.632Z"
   },
   {
    "duration": 30,
    "start_time": "2021-12-22T13:05:25.643Z"
   },
   {
    "duration": 11,
    "start_time": "2021-12-22T13:05:25.675Z"
   },
   {
    "duration": 57,
    "start_time": "2021-12-22T13:05:25.688Z"
   },
   {
    "duration": 21,
    "start_time": "2021-12-22T13:05:25.749Z"
   },
   {
    "duration": 48,
    "start_time": "2021-12-22T13:05:25.773Z"
   },
   {
    "duration": 97,
    "start_time": "2021-12-22T13:05:25.824Z"
   },
   {
    "duration": 105,
    "start_time": "2021-12-22T13:05:25.924Z"
   },
   {
    "duration": 87,
    "start_time": "2021-12-22T13:05:26.031Z"
   },
   {
    "duration": 14,
    "start_time": "2021-12-22T13:05:26.120Z"
   },
   {
    "duration": 4,
    "start_time": "2021-12-22T13:05:26.136Z"
   },
   {
    "duration": 15,
    "start_time": "2021-12-22T13:05:26.143Z"
   },
   {
    "duration": 13,
    "start_time": "2021-12-22T13:05:26.161Z"
   },
   {
    "duration": 55,
    "start_time": "2021-12-22T13:05:26.176Z"
   },
   {
    "duration": 16,
    "start_time": "2021-12-22T13:05:26.233Z"
   },
   {
    "duration": 4,
    "start_time": "2021-12-22T13:05:26.252Z"
   },
   {
    "duration": 8,
    "start_time": "2021-12-22T13:05:26.258Z"
   },
   {
    "duration": 49,
    "start_time": "2021-12-22T13:05:26.268Z"
   },
   {
    "duration": 5,
    "start_time": "2021-12-22T13:05:26.320Z"
   },
   {
    "duration": 5,
    "start_time": "2021-12-22T13:05:26.328Z"
   },
   {
    "duration": 6,
    "start_time": "2021-12-22T13:05:26.335Z"
   },
   {
    "duration": 8,
    "start_time": "2021-12-22T13:05:26.343Z"
   },
   {
    "duration": 2,
    "start_time": "2021-12-22T13:05:26.357Z"
   },
   {
    "duration": 4,
    "start_time": "2021-12-22T13:05:26.363Z"
   },
   {
    "duration": 47,
    "start_time": "2021-12-22T13:05:26.370Z"
   },
   {
    "duration": 3,
    "start_time": "2021-12-22T13:05:26.420Z"
   },
   {
    "duration": 9,
    "start_time": "2021-12-22T13:05:26.426Z"
   },
   {
    "duration": 7,
    "start_time": "2021-12-22T13:05:26.437Z"
   },
   {
    "duration": 8,
    "start_time": "2021-12-22T13:05:26.446Z"
   },
   {
    "duration": 4,
    "start_time": "2021-12-22T13:05:26.456Z"
   },
   {
    "duration": 5,
    "start_time": "2021-12-22T13:05:26.462Z"
   },
   {
    "duration": 6,
    "start_time": "2021-12-22T13:05:26.469Z"
   },
   {
    "duration": 40,
    "start_time": "2021-12-22T13:05:26.477Z"
   },
   {
    "duration": 3,
    "start_time": "2021-12-22T13:05:26.520Z"
   },
   {
    "duration": 43,
    "start_time": "2021-12-22T13:10:23.843Z"
   },
   {
    "duration": 14,
    "start_time": "2021-12-22T13:11:08.997Z"
   },
   {
    "duration": 14,
    "start_time": "2021-12-22T13:11:49.028Z"
   },
   {
    "duration": 14,
    "start_time": "2021-12-22T13:11:59.696Z"
   },
   {
    "duration": 13,
    "start_time": "2021-12-22T13:12:14.419Z"
   },
   {
    "duration": 43,
    "start_time": "2021-12-22T13:12:20.568Z"
   },
   {
    "duration": 16,
    "start_time": "2021-12-22T13:12:50.674Z"
   },
   {
    "duration": 4,
    "start_time": "2021-12-22T13:46:46.600Z"
   },
   {
    "duration": 4,
    "start_time": "2021-12-22T13:47:10.654Z"
   },
   {
    "duration": 191,
    "start_time": "2021-12-22T13:47:10.661Z"
   },
   {
    "duration": 16,
    "start_time": "2021-12-22T13:47:10.855Z"
   },
   {
    "duration": 12,
    "start_time": "2021-12-22T13:47:10.873Z"
   },
   {
    "duration": 32,
    "start_time": "2021-12-22T13:47:10.887Z"
   },
   {
    "duration": 21,
    "start_time": "2021-12-22T13:47:10.921Z"
   },
   {
    "duration": 6,
    "start_time": "2021-12-22T13:47:10.944Z"
   },
   {
    "duration": 65,
    "start_time": "2021-12-22T13:47:10.953Z"
   },
   {
    "duration": 23,
    "start_time": "2021-12-22T13:47:11.022Z"
   },
   {
    "duration": 32,
    "start_time": "2021-12-22T13:47:11.048Z"
   },
   {
    "duration": 115,
    "start_time": "2021-12-22T13:47:11.083Z"
   },
   {
    "duration": 150,
    "start_time": "2021-12-22T13:47:11.201Z"
   },
   {
    "duration": 87,
    "start_time": "2021-12-22T13:47:11.354Z"
   },
   {
    "duration": 15,
    "start_time": "2021-12-22T13:47:11.443Z"
   },
   {
    "duration": 5,
    "start_time": "2021-12-22T13:47:11.460Z"
   },
   {
    "duration": 23,
    "start_time": "2021-12-22T13:47:11.467Z"
   },
   {
    "duration": 30,
    "start_time": "2021-12-22T13:47:11.492Z"
   },
   {
    "duration": 32,
    "start_time": "2021-12-22T13:47:11.524Z"
   },
   {
    "duration": 15,
    "start_time": "2021-12-22T13:47:11.559Z"
   },
   {
    "duration": 5,
    "start_time": "2021-12-22T13:47:11.577Z"
   },
   {
    "duration": 25,
    "start_time": "2021-12-22T13:47:11.584Z"
   },
   {
    "duration": 19,
    "start_time": "2021-12-22T13:47:11.618Z"
   },
   {
    "duration": 9,
    "start_time": "2021-12-22T13:47:11.639Z"
   },
   {
    "duration": 30,
    "start_time": "2021-12-22T13:47:11.651Z"
   },
   {
    "duration": 10,
    "start_time": "2021-12-22T13:47:11.683Z"
   },
   {
    "duration": 18,
    "start_time": "2021-12-22T13:47:11.695Z"
   },
   {
    "duration": 4,
    "start_time": "2021-12-22T13:47:11.720Z"
   },
   {
    "duration": 13,
    "start_time": "2021-12-22T13:47:11.727Z"
   },
   {
    "duration": 9,
    "start_time": "2021-12-22T13:47:11.743Z"
   },
   {
    "duration": 8,
    "start_time": "2021-12-22T13:47:11.754Z"
   },
   {
    "duration": 21,
    "start_time": "2021-12-22T13:47:11.765Z"
   },
   {
    "duration": 5,
    "start_time": "2021-12-22T13:47:11.789Z"
   },
   {
    "duration": 15,
    "start_time": "2021-12-22T13:47:11.796Z"
   },
   {
    "duration": 18,
    "start_time": "2021-12-22T13:47:11.813Z"
   },
   {
    "duration": 15,
    "start_time": "2021-12-22T13:47:11.833Z"
   },
   {
    "duration": 9,
    "start_time": "2021-12-22T13:47:11.850Z"
   },
   {
    "duration": 18,
    "start_time": "2021-12-22T13:47:11.862Z"
   },
   {
    "duration": 16,
    "start_time": "2021-12-22T13:47:11.882Z"
   },
   {
    "duration": 6,
    "start_time": "2021-12-22T13:47:38.289Z"
   },
   {
    "duration": 269,
    "start_time": "2021-12-22T13:49:30.386Z"
   },
   {
    "duration": 78,
    "start_time": "2021-12-22T13:49:37.236Z"
   },
   {
    "duration": 4,
    "start_time": "2021-12-22T13:50:05.627Z"
   },
   {
    "duration": 4,
    "start_time": "2021-12-22T13:50:20.067Z"
   },
   {
    "duration": 106,
    "start_time": "2021-12-22T13:50:53.556Z"
   },
   {
    "duration": 83,
    "start_time": "2021-12-22T13:51:40.515Z"
   },
   {
    "duration": 18,
    "start_time": "2021-12-22T13:51:51.995Z"
   },
   {
    "duration": 436,
    "start_time": "2021-12-22T13:52:55.326Z"
   },
   {
    "duration": 7,
    "start_time": "2021-12-22T13:53:03.186Z"
   },
   {
    "duration": 15,
    "start_time": "2021-12-22T13:53:08.207Z"
   },
   {
    "duration": 3,
    "start_time": "2021-12-22T13:53:13.538Z"
   },
   {
    "duration": 195,
    "start_time": "2021-12-22T13:53:13.544Z"
   },
   {
    "duration": 16,
    "start_time": "2021-12-22T13:53:13.742Z"
   },
   {
    "duration": 11,
    "start_time": "2021-12-22T13:53:13.761Z"
   },
   {
    "duration": 5,
    "start_time": "2021-12-22T13:53:13.775Z"
   },
   {
    "duration": 13,
    "start_time": "2021-12-22T13:53:13.818Z"
   },
   {
    "duration": 5,
    "start_time": "2021-12-22T13:53:13.834Z"
   },
   {
    "duration": 33,
    "start_time": "2021-12-22T13:53:13.842Z"
   },
   {
    "duration": 53,
    "start_time": "2021-12-22T13:53:13.881Z"
   },
   {
    "duration": 47,
    "start_time": "2021-12-22T13:53:13.937Z"
   },
   {
    "duration": 105,
    "start_time": "2021-12-22T13:53:13.987Z"
   },
   {
    "duration": 104,
    "start_time": "2021-12-22T13:53:14.095Z"
   },
   {
    "duration": 82,
    "start_time": "2021-12-22T13:53:14.202Z"
   },
   {
    "duration": 13,
    "start_time": "2021-12-22T13:53:14.287Z"
   },
   {
    "duration": 4,
    "start_time": "2021-12-22T13:53:14.317Z"
   },
   {
    "duration": 14,
    "start_time": "2021-12-22T13:53:14.324Z"
   },
   {
    "duration": 14,
    "start_time": "2021-12-22T13:53:14.341Z"
   },
   {
    "duration": 17,
    "start_time": "2021-12-22T13:53:14.358Z"
   },
   {
    "duration": 14,
    "start_time": "2021-12-22T13:53:14.418Z"
   },
   {
    "duration": 4,
    "start_time": "2021-12-22T13:53:14.434Z"
   },
   {
    "duration": 20,
    "start_time": "2021-12-22T13:53:14.440Z"
   },
   {
    "duration": 3,
    "start_time": "2021-12-22T13:53:14.463Z"
   },
   {
    "duration": 5,
    "start_time": "2021-12-22T13:53:14.468Z"
   },
   {
    "duration": 10,
    "start_time": "2021-12-22T13:53:14.475Z"
   },
   {
    "duration": 32,
    "start_time": "2021-12-22T13:53:14.487Z"
   },
   {
    "duration": 8,
    "start_time": "2021-12-22T13:53:14.521Z"
   },
   {
    "duration": 3,
    "start_time": "2021-12-22T13:53:14.534Z"
   },
   {
    "duration": 8,
    "start_time": "2021-12-22T13:53:14.540Z"
   },
   {
    "duration": 6,
    "start_time": "2021-12-22T13:53:14.550Z"
   },
   {
    "duration": 6,
    "start_time": "2021-12-22T13:53:14.558Z"
   },
   {
    "duration": 10,
    "start_time": "2021-12-22T13:53:14.566Z"
   },
   {
    "duration": 5,
    "start_time": "2021-12-22T13:53:14.579Z"
   },
   {
    "duration": 32,
    "start_time": "2021-12-22T13:53:14.586Z"
   },
   {
    "duration": 6,
    "start_time": "2021-12-22T13:53:14.620Z"
   },
   {
    "duration": 5,
    "start_time": "2021-12-22T13:53:14.628Z"
   },
   {
    "duration": 5,
    "start_time": "2021-12-22T13:53:14.635Z"
   },
   {
    "duration": 5,
    "start_time": "2021-12-22T13:53:14.642Z"
   },
   {
    "duration": 5,
    "start_time": "2021-12-22T13:53:14.649Z"
   },
   {
    "duration": 14,
    "start_time": "2021-12-22T13:53:39.285Z"
   },
   {
    "duration": 15,
    "start_time": "2021-12-22T13:54:25.403Z"
   },
   {
    "duration": 16,
    "start_time": "2021-12-22T13:55:07.557Z"
   },
   {
    "duration": 16,
    "start_time": "2021-12-22T13:55:21.609Z"
   },
   {
    "duration": 5,
    "start_time": "2021-12-22T14:08:08.621Z"
   },
   {
    "duration": 16,
    "start_time": "2021-12-22T14:08:11.160Z"
   },
   {
    "duration": 16,
    "start_time": "2021-12-22T14:08:14.391Z"
   },
   {
    "duration": 15,
    "start_time": "2021-12-22T14:13:56.409Z"
   },
   {
    "duration": 14,
    "start_time": "2021-12-22T14:14:05.169Z"
   },
   {
    "duration": 15,
    "start_time": "2021-12-22T14:14:17.075Z"
   },
   {
    "duration": 3,
    "start_time": "2021-12-22T14:14:30.710Z"
   },
   {
    "duration": 207,
    "start_time": "2021-12-22T14:14:30.716Z"
   },
   {
    "duration": 15,
    "start_time": "2021-12-22T14:14:30.926Z"
   },
   {
    "duration": 14,
    "start_time": "2021-12-22T14:14:30.945Z"
   },
   {
    "duration": 14,
    "start_time": "2021-12-22T14:14:30.962Z"
   },
   {
    "duration": 52,
    "start_time": "2021-12-22T14:14:30.979Z"
   },
   {
    "duration": 6,
    "start_time": "2021-12-22T14:14:31.033Z"
   },
   {
    "duration": 46,
    "start_time": "2021-12-22T14:14:31.041Z"
   },
   {
    "duration": 49,
    "start_time": "2021-12-22T14:14:31.091Z"
   },
   {
    "duration": 44,
    "start_time": "2021-12-22T14:14:31.145Z"
   },
   {
    "duration": 101,
    "start_time": "2021-12-22T14:14:31.193Z"
   },
   {
    "duration": 110,
    "start_time": "2021-12-22T14:14:31.297Z"
   },
   {
    "duration": 81,
    "start_time": "2021-12-22T14:14:31.417Z"
   },
   {
    "duration": 27,
    "start_time": "2021-12-22T14:14:31.501Z"
   },
   {
    "duration": 4,
    "start_time": "2021-12-22T14:14:31.530Z"
   },
   {
    "duration": 19,
    "start_time": "2021-12-22T14:14:31.537Z"
   },
   {
    "duration": 20,
    "start_time": "2021-12-22T14:14:31.559Z"
   },
   {
    "duration": 44,
    "start_time": "2021-12-22T14:14:31.582Z"
   },
   {
    "duration": 15,
    "start_time": "2021-12-22T14:14:31.628Z"
   },
   {
    "duration": 4,
    "start_time": "2021-12-22T14:14:31.646Z"
   },
   {
    "duration": 26,
    "start_time": "2021-12-22T14:14:31.653Z"
   },
   {
    "duration": 43,
    "start_time": "2021-12-22T14:14:31.682Z"
   },
   {
    "duration": 6,
    "start_time": "2021-12-22T14:14:31.727Z"
   },
   {
    "duration": 5,
    "start_time": "2021-12-22T14:14:31.735Z"
   },
   {
    "duration": 7,
    "start_time": "2021-12-22T14:14:31.742Z"
   },
   {
    "duration": 15,
    "start_time": "2021-12-22T14:14:31.751Z"
   },
   {
    "duration": 4,
    "start_time": "2021-12-22T14:14:31.771Z"
   },
   {
    "duration": 8,
    "start_time": "2021-12-22T14:14:31.777Z"
   },
   {
    "duration": 29,
    "start_time": "2021-12-22T14:14:31.788Z"
   },
   {
    "duration": 4,
    "start_time": "2021-12-22T14:14:31.819Z"
   },
   {
    "duration": 9,
    "start_time": "2021-12-22T14:14:31.825Z"
   },
   {
    "duration": 7,
    "start_time": "2021-12-22T14:14:31.836Z"
   },
   {
    "duration": 7,
    "start_time": "2021-12-22T14:14:31.846Z"
   },
   {
    "duration": 17,
    "start_time": "2021-12-22T14:14:31.855Z"
   },
   {
    "duration": 7,
    "start_time": "2021-12-22T14:14:31.874Z"
   },
   {
    "duration": 7,
    "start_time": "2021-12-22T14:14:31.883Z"
   },
   {
    "duration": 18,
    "start_time": "2021-12-22T14:14:31.893Z"
   },
   {
    "duration": 5,
    "start_time": "2021-12-22T14:14:31.918Z"
   },
   {
    "duration": 3,
    "start_time": "2021-12-22T14:20:49.662Z"
   },
   {
    "duration": 204,
    "start_time": "2021-12-22T14:20:49.668Z"
   },
   {
    "duration": 16,
    "start_time": "2021-12-22T14:20:49.875Z"
   },
   {
    "duration": 12,
    "start_time": "2021-12-22T14:20:49.918Z"
   },
   {
    "duration": 6,
    "start_time": "2021-12-22T14:20:49.932Z"
   },
   {
    "duration": 21,
    "start_time": "2021-12-22T14:20:49.940Z"
   },
   {
    "duration": 5,
    "start_time": "2021-12-22T14:20:49.964Z"
   },
   {
    "duration": 76,
    "start_time": "2021-12-22T14:20:49.972Z"
   },
   {
    "duration": 25,
    "start_time": "2021-12-22T14:20:50.051Z"
   },
   {
    "duration": 49,
    "start_time": "2021-12-22T14:20:50.079Z"
   },
   {
    "duration": 120,
    "start_time": "2021-12-22T14:20:50.130Z"
   },
   {
    "duration": 122,
    "start_time": "2021-12-22T14:20:50.252Z"
   },
   {
    "duration": 127,
    "start_time": "2021-12-22T14:20:50.377Z"
   },
   {
    "duration": 27,
    "start_time": "2021-12-22T14:20:50.507Z"
   },
   {
    "duration": 5,
    "start_time": "2021-12-22T14:20:50.537Z"
   },
   {
    "duration": 19,
    "start_time": "2021-12-22T14:20:50.546Z"
   },
   {
    "duration": 54,
    "start_time": "2021-12-22T14:20:50.569Z"
   },
   {
    "duration": 22,
    "start_time": "2021-12-22T14:20:50.626Z"
   },
   {
    "duration": 23,
    "start_time": "2021-12-22T14:20:50.651Z"
   },
   {
    "duration": 5,
    "start_time": "2021-12-22T14:20:50.676Z"
   },
   {
    "duration": 48,
    "start_time": "2021-12-22T14:20:50.683Z"
   },
   {
    "duration": 15,
    "start_time": "2021-12-22T14:20:50.733Z"
   },
   {
    "duration": 3,
    "start_time": "2021-12-22T14:20:50.752Z"
   },
   {
    "duration": 6,
    "start_time": "2021-12-22T14:20:50.759Z"
   },
   {
    "duration": 7,
    "start_time": "2021-12-22T14:20:50.767Z"
   },
   {
    "duration": 3,
    "start_time": "2021-12-22T14:20:50.817Z"
   },
   {
    "duration": 7,
    "start_time": "2021-12-22T14:20:50.823Z"
   },
   {
    "duration": 6,
    "start_time": "2021-12-22T14:20:50.832Z"
   },
   {
    "duration": 8,
    "start_time": "2021-12-22T14:20:50.840Z"
   },
   {
    "duration": 6,
    "start_time": "2021-12-22T14:20:50.851Z"
   },
   {
    "duration": 12,
    "start_time": "2021-12-22T14:20:50.859Z"
   },
   {
    "duration": 5,
    "start_time": "2021-12-22T14:20:50.873Z"
   },
   {
    "duration": 37,
    "start_time": "2021-12-22T14:20:50.880Z"
   },
   {
    "duration": 8,
    "start_time": "2021-12-22T14:20:50.920Z"
   },
   {
    "duration": 10,
    "start_time": "2021-12-22T14:20:50.931Z"
   },
   {
    "duration": 8,
    "start_time": "2021-12-22T14:20:50.944Z"
   },
   {
    "duration": 7,
    "start_time": "2021-12-22T14:20:50.954Z"
   },
   {
    "duration": 13,
    "start_time": "2021-12-22T14:20:50.964Z"
   },
   {
    "duration": 15,
    "start_time": "2021-12-22T14:44:52.516Z"
   },
   {
    "duration": 14,
    "start_time": "2021-12-22T14:44:56.147Z"
   },
   {
    "duration": 15,
    "start_time": "2021-12-22T14:45:04.403Z"
   },
   {
    "duration": 5,
    "start_time": "2021-12-22T14:46:02.116Z"
   },
   {
    "duration": 16,
    "start_time": "2021-12-22T14:46:07.716Z"
   },
   {
    "duration": 18,
    "start_time": "2021-12-22T14:46:13.795Z"
   },
   {
    "duration": 17,
    "start_time": "2021-12-22T14:46:29.654Z"
   },
   {
    "duration": 16,
    "start_time": "2021-12-22T14:46:37.826Z"
   },
   {
    "duration": 16,
    "start_time": "2021-12-22T14:46:44.366Z"
   },
   {
    "duration": 5,
    "start_time": "2021-12-22T14:49:11.198Z"
   },
   {
    "duration": 15,
    "start_time": "2021-12-22T14:49:18.944Z"
   },
   {
    "duration": 15,
    "start_time": "2021-12-22T14:49:22.116Z"
   },
   {
    "duration": 15,
    "start_time": "2021-12-22T14:50:36.845Z"
   },
   {
    "duration": 15,
    "start_time": "2021-12-22T14:50:40.916Z"
   },
   {
    "duration": 4,
    "start_time": "2021-12-22T14:50:50.898Z"
   },
   {
    "duration": 213,
    "start_time": "2021-12-22T14:50:50.904Z"
   },
   {
    "duration": 15,
    "start_time": "2021-12-22T14:50:51.120Z"
   },
   {
    "duration": 13,
    "start_time": "2021-12-22T14:50:51.138Z"
   },
   {
    "duration": 10,
    "start_time": "2021-12-22T14:50:51.153Z"
   },
   {
    "duration": 37,
    "start_time": "2021-12-22T14:50:51.165Z"
   },
   {
    "duration": 5,
    "start_time": "2021-12-22T14:50:51.216Z"
   },
   {
    "duration": 34,
    "start_time": "2021-12-22T14:50:51.223Z"
   },
   {
    "duration": 21,
    "start_time": "2021-12-22T14:50:51.261Z"
   },
   {
    "duration": 54,
    "start_time": "2021-12-22T14:50:51.286Z"
   },
   {
    "duration": 104,
    "start_time": "2021-12-22T14:50:51.342Z"
   },
   {
    "duration": 96,
    "start_time": "2021-12-22T14:50:51.448Z"
   },
   {
    "duration": 82,
    "start_time": "2021-12-22T14:50:51.547Z"
   },
   {
    "duration": 14,
    "start_time": "2021-12-22T14:50:51.631Z"
   },
   {
    "duration": 5,
    "start_time": "2021-12-22T14:50:51.647Z"
   },
   {
    "duration": 15,
    "start_time": "2021-12-22T14:50:51.654Z"
   },
   {
    "duration": 46,
    "start_time": "2021-12-22T14:50:51.672Z"
   },
   {
    "duration": 16,
    "start_time": "2021-12-22T14:50:51.721Z"
   },
   {
    "duration": 17,
    "start_time": "2021-12-22T14:50:51.740Z"
   },
   {
    "duration": 6,
    "start_time": "2021-12-22T14:50:51.759Z"
   },
   {
    "duration": 57,
    "start_time": "2021-12-22T14:50:51.768Z"
   },
   {
    "duration": 15,
    "start_time": "2021-12-22T14:50:51.829Z"
   },
   {
    "duration": 3,
    "start_time": "2021-12-22T14:50:51.847Z"
   },
   {
    "duration": 6,
    "start_time": "2021-12-22T14:50:51.853Z"
   },
   {
    "duration": 9,
    "start_time": "2021-12-22T14:50:51.862Z"
   },
   {
    "duration": 44,
    "start_time": "2021-12-22T14:50:51.873Z"
   },
   {
    "duration": 4,
    "start_time": "2021-12-22T14:50:51.924Z"
   },
   {
    "duration": 4,
    "start_time": "2021-12-22T14:50:51.931Z"
   },
   {
    "duration": 6,
    "start_time": "2021-12-22T14:50:51.938Z"
   },
   {
    "duration": 6,
    "start_time": "2021-12-22T14:50:51.946Z"
   },
   {
    "duration": 8,
    "start_time": "2021-12-22T14:50:51.954Z"
   },
   {
    "duration": 4,
    "start_time": "2021-12-22T14:50:51.965Z"
   },
   {
    "duration": 9,
    "start_time": "2021-12-22T14:50:51.971Z"
   },
   {
    "duration": 35,
    "start_time": "2021-12-22T14:50:51.982Z"
   },
   {
    "duration": 6,
    "start_time": "2021-12-22T14:50:52.020Z"
   },
   {
    "duration": 4,
    "start_time": "2021-12-22T14:50:52.029Z"
   },
   {
    "duration": 6,
    "start_time": "2021-12-22T14:50:52.035Z"
   },
   {
    "duration": 6,
    "start_time": "2021-12-22T14:50:52.044Z"
   },
   {
    "duration": 5,
    "start_time": "2021-12-22T14:54:05.107Z"
   },
   {
    "duration": 14,
    "start_time": "2021-12-22T14:54:09.106Z"
   },
   {
    "duration": 22,
    "start_time": "2021-12-22T14:54:11.846Z"
   },
   {
    "duration": 4,
    "start_time": "2021-12-22T14:57:05.315Z"
   },
   {
    "duration": 22,
    "start_time": "2021-12-22T14:57:09.134Z"
   },
   {
    "duration": 17,
    "start_time": "2021-12-22T14:57:12.325Z"
   },
   {
    "duration": 18,
    "start_time": "2021-12-22T14:57:28.035Z"
   },
   {
    "duration": 21,
    "start_time": "2021-12-22T14:59:39.496Z"
   },
   {
    "duration": 19,
    "start_time": "2021-12-22T15:00:03.693Z"
   },
   {
    "duration": 20,
    "start_time": "2021-12-22T15:00:45.795Z"
   },
   {
    "duration": 21,
    "start_time": "2021-12-22T15:00:50.285Z"
   },
   {
    "duration": 864,
    "start_time": "2021-12-22T15:03:52.917Z"
   },
   {
    "duration": 224,
    "start_time": "2022-01-06T15:37:13.216Z"
   },
   {
    "duration": 559,
    "start_time": "2022-01-06T15:37:26.420Z"
   },
   {
    "duration": 149,
    "start_time": "2022-01-06T15:37:26.980Z"
   },
   {
    "duration": 17,
    "start_time": "2022-01-06T15:37:27.131Z"
   },
   {
    "duration": 8,
    "start_time": "2022-01-06T15:37:27.149Z"
   },
   {
    "duration": 5,
    "start_time": "2022-01-06T15:37:27.159Z"
   },
   {
    "duration": 46,
    "start_time": "2022-01-06T15:37:27.166Z"
   },
   {
    "duration": 9,
    "start_time": "2022-01-06T15:37:27.216Z"
   },
   {
    "duration": 29,
    "start_time": "2022-01-06T15:37:27.228Z"
   },
   {
    "duration": 17,
    "start_time": "2022-01-06T15:37:27.260Z"
   },
   {
    "duration": 25,
    "start_time": "2022-01-06T15:37:27.291Z"
   },
   {
    "duration": 74,
    "start_time": "2022-01-06T15:37:27.318Z"
   },
   {
    "duration": 81,
    "start_time": "2022-01-06T15:37:27.394Z"
   },
   {
    "duration": 73,
    "start_time": "2022-01-06T15:37:27.477Z"
   },
   {
    "duration": 10,
    "start_time": "2022-01-06T15:37:27.552Z"
   },
   {
    "duration": 3,
    "start_time": "2022-01-06T15:37:27.563Z"
   },
   {
    "duration": 36,
    "start_time": "2022-01-06T15:37:27.568Z"
   },
   {
    "duration": 13,
    "start_time": "2022-01-06T15:37:27.606Z"
   },
   {
    "duration": 11,
    "start_time": "2022-01-06T15:37:27.621Z"
   },
   {
    "duration": 11,
    "start_time": "2022-01-06T15:37:27.633Z"
   },
   {
    "duration": 3,
    "start_time": "2022-01-06T15:37:27.645Z"
   },
   {
    "duration": 54,
    "start_time": "2022-01-06T15:37:27.650Z"
   },
   {
    "duration": 19,
    "start_time": "2022-01-06T15:37:27.706Z"
   },
   {
    "duration": 15,
    "start_time": "2022-01-06T15:37:27.728Z"
   },
   {
    "duration": 14,
    "start_time": "2022-01-06T15:37:27.745Z"
   },
   {
    "duration": 46,
    "start_time": "2022-01-06T15:37:27.761Z"
   },
   {
    "duration": 17,
    "start_time": "2022-01-06T15:37:27.810Z"
   },
   {
    "duration": 201,
    "start_time": "2022-01-06T15:37:27.828Z"
   },
   {
    "duration": 1093,
    "start_time": "2022-01-06T15:37:26.938Z"
   },
   {
    "duration": 1089,
    "start_time": "2022-01-06T15:37:26.943Z"
   },
   {
    "duration": 1085,
    "start_time": "2022-01-06T15:37:26.948Z"
   },
   {
    "duration": 1080,
    "start_time": "2022-01-06T15:37:26.954Z"
   },
   {
    "duration": 1077,
    "start_time": "2022-01-06T15:37:26.958Z"
   },
   {
    "duration": 1072,
    "start_time": "2022-01-06T15:37:26.963Z"
   },
   {
    "duration": 1068,
    "start_time": "2022-01-06T15:37:26.968Z"
   },
   {
    "duration": 1065,
    "start_time": "2022-01-06T15:37:26.972Z"
   },
   {
    "duration": 1052,
    "start_time": "2022-01-06T15:37:26.986Z"
   },
   {
    "duration": 1048,
    "start_time": "2022-01-06T15:37:26.990Z"
   },
   {
    "duration": 1045,
    "start_time": "2022-01-06T15:37:26.994Z"
   },
   {
    "duration": 194,
    "start_time": "2022-01-06T15:38:30.409Z"
   },
   {
    "duration": 181,
    "start_time": "2022-01-06T15:38:56.762Z"
   },
   {
    "duration": 171,
    "start_time": "2022-01-06T15:55:55.588Z"
   },
   {
    "duration": 8,
    "start_time": "2022-01-06T15:56:11.897Z"
   },
   {
    "duration": 4,
    "start_time": "2022-01-06T15:56:16.241Z"
   },
   {
    "duration": 6,
    "start_time": "2022-01-06T15:56:34.115Z"
   },
   {
    "duration": 3,
    "start_time": "2022-01-06T15:56:38.489Z"
   },
   {
    "duration": 175,
    "start_time": "2022-01-06T15:56:38.495Z"
   },
   {
    "duration": 30,
    "start_time": "2022-01-06T15:56:38.672Z"
   },
   {
    "duration": 12,
    "start_time": "2022-01-06T15:56:38.705Z"
   },
   {
    "duration": 8,
    "start_time": "2022-01-06T15:56:38.720Z"
   },
   {
    "duration": 13,
    "start_time": "2022-01-06T15:56:38.730Z"
   },
   {
    "duration": 4,
    "start_time": "2022-01-06T15:56:38.746Z"
   },
   {
    "duration": 76,
    "start_time": "2022-01-06T15:56:38.752Z"
   },
   {
    "duration": 19,
    "start_time": "2022-01-06T15:56:38.831Z"
   },
   {
    "duration": 22,
    "start_time": "2022-01-06T15:56:38.852Z"
   },
   {
    "duration": 68,
    "start_time": "2022-01-06T15:56:38.895Z"
   },
   {
    "duration": 90,
    "start_time": "2022-01-06T15:56:38.965Z"
   },
   {
    "duration": 67,
    "start_time": "2022-01-06T15:56:39.056Z"
   },
   {
    "duration": 10,
    "start_time": "2022-01-06T15:56:39.126Z"
   },
   {
    "duration": 2,
    "start_time": "2022-01-06T15:56:39.138Z"
   },
   {
    "duration": 12,
    "start_time": "2022-01-06T15:56:39.142Z"
   },
   {
    "duration": 9,
    "start_time": "2022-01-06T15:56:39.156Z"
   },
   {
    "duration": 41,
    "start_time": "2022-01-06T15:56:39.166Z"
   },
   {
    "duration": 19,
    "start_time": "2022-01-06T15:56:39.212Z"
   },
   {
    "duration": 4,
    "start_time": "2022-01-06T15:56:39.233Z"
   },
   {
    "duration": 20,
    "start_time": "2022-01-06T15:56:39.239Z"
   },
   {
    "duration": 43,
    "start_time": "2022-01-06T15:56:39.261Z"
   },
   {
    "duration": 23,
    "start_time": "2022-01-06T15:56:39.306Z"
   },
   {
    "duration": 14,
    "start_time": "2022-01-06T15:56:39.333Z"
   },
   {
    "duration": 15,
    "start_time": "2022-01-06T15:56:39.349Z"
   },
   {
    "duration": 22,
    "start_time": "2022-01-06T15:56:39.392Z"
   },
   {
    "duration": 6,
    "start_time": "2022-01-06T15:56:39.416Z"
   },
   {
    "duration": 5,
    "start_time": "2022-01-06T15:56:39.424Z"
   },
   {
    "duration": 5,
    "start_time": "2022-01-06T15:56:39.431Z"
   },
   {
    "duration": 4,
    "start_time": "2022-01-06T15:56:39.438Z"
   },
   {
    "duration": 8,
    "start_time": "2022-01-06T15:56:39.444Z"
   },
   {
    "duration": 8,
    "start_time": "2022-01-06T15:56:39.454Z"
   },
   {
    "duration": 6,
    "start_time": "2022-01-06T15:56:39.463Z"
   },
   {
    "duration": 20,
    "start_time": "2022-01-06T15:56:39.471Z"
   },
   {
    "duration": 9,
    "start_time": "2022-01-06T15:56:39.494Z"
   },
   {
    "duration": 7,
    "start_time": "2022-01-06T15:56:39.507Z"
   },
   {
    "duration": 2,
    "start_time": "2022-01-06T15:56:39.516Z"
   },
   {
    "duration": 6,
    "start_time": "2022-01-06T15:56:39.520Z"
   },
   {
    "duration": 5,
    "start_time": "2022-01-06T15:57:20.523Z"
   },
   {
    "duration": 6,
    "start_time": "2022-01-06T16:08:10.030Z"
   },
   {
    "duration": 5,
    "start_time": "2022-01-06T16:08:28.318Z"
   },
   {
    "duration": 10,
    "start_time": "2022-01-06T16:08:31.295Z"
   },
   {
    "duration": 265,
    "start_time": "2022-01-06T16:09:02.508Z"
   },
   {
    "duration": 8,
    "start_time": "2022-01-06T16:09:35.624Z"
   },
   {
    "duration": 7,
    "start_time": "2022-01-06T16:11:02.283Z"
   },
   {
    "duration": 394,
    "start_time": "2022-01-07T10:16:19.139Z"
   },
   {
    "duration": 784,
    "start_time": "2022-01-07T10:16:58.501Z"
   },
   {
    "duration": 189,
    "start_time": "2022-01-07T10:16:59.287Z"
   },
   {
    "duration": 24,
    "start_time": "2022-01-07T10:16:59.479Z"
   },
   {
    "duration": 20,
    "start_time": "2022-01-07T10:16:59.506Z"
   },
   {
    "duration": 6,
    "start_time": "2022-01-07T10:16:59.529Z"
   },
   {
    "duration": 27,
    "start_time": "2022-01-07T10:16:59.538Z"
   },
   {
    "duration": 8,
    "start_time": "2022-01-07T10:16:59.567Z"
   },
   {
    "duration": 67,
    "start_time": "2022-01-07T10:16:59.579Z"
   },
   {
    "duration": 24,
    "start_time": "2022-01-07T10:16:59.649Z"
   },
   {
    "duration": 50,
    "start_time": "2022-01-07T10:16:59.675Z"
   },
   {
    "duration": 105,
    "start_time": "2022-01-07T10:16:59.728Z"
   },
   {
    "duration": 117,
    "start_time": "2022-01-07T10:16:59.835Z"
   },
   {
    "duration": 89,
    "start_time": "2022-01-07T10:16:59.955Z"
   },
   {
    "duration": 19,
    "start_time": "2022-01-07T10:17:00.047Z"
   },
   {
    "duration": 5,
    "start_time": "2022-01-07T10:17:00.069Z"
   },
   {
    "duration": 41,
    "start_time": "2022-01-07T10:17:00.076Z"
   },
   {
    "duration": 19,
    "start_time": "2022-01-07T10:17:00.119Z"
   },
   {
    "duration": 16,
    "start_time": "2022-01-07T10:17:00.141Z"
   },
   {
    "duration": 15,
    "start_time": "2022-01-07T10:17:00.158Z"
   },
   {
    "duration": 5,
    "start_time": "2022-01-07T10:17:00.175Z"
   },
   {
    "duration": 55,
    "start_time": "2022-01-07T10:17:00.182Z"
   },
   {
    "duration": 19,
    "start_time": "2022-01-07T10:17:00.239Z"
   },
   {
    "duration": 20,
    "start_time": "2022-01-07T10:17:00.262Z"
   },
   {
    "duration": 21,
    "start_time": "2022-01-07T10:17:00.318Z"
   },
   {
    "duration": 22,
    "start_time": "2022-01-07T10:17:00.342Z"
   },
   {
    "duration": 19,
    "start_time": "2022-01-07T10:17:00.367Z"
   },
   {
    "duration": 10,
    "start_time": "2022-01-07T10:17:00.417Z"
   },
   {
    "duration": 24,
    "start_time": "2022-01-07T10:17:00.430Z"
   },
   {
    "duration": 3,
    "start_time": "2022-01-07T10:17:00.457Z"
   },
   {
    "duration": 7,
    "start_time": "2022-01-07T10:17:00.462Z"
   },
   {
    "duration": 24,
    "start_time": "2022-01-07T10:17:00.471Z"
   },
   {
    "duration": 6,
    "start_time": "2022-01-07T10:17:00.497Z"
   },
   {
    "duration": 16,
    "start_time": "2022-01-07T10:17:00.518Z"
   },
   {
    "duration": 16,
    "start_time": "2022-01-07T10:17:00.536Z"
   },
   {
    "duration": 6,
    "start_time": "2022-01-07T10:17:00.555Z"
   },
   {
    "duration": 9,
    "start_time": "2022-01-07T10:17:00.564Z"
   },
   {
    "duration": 25,
    "start_time": "2022-01-07T10:17:00.575Z"
   },
   {
    "duration": 7,
    "start_time": "2022-01-07T10:17:00.603Z"
   },
   {
    "duration": 16,
    "start_time": "2022-01-07T10:17:07.575Z"
   },
   {
    "duration": 12,
    "start_time": "2022-01-07T10:17:59.588Z"
   },
   {
    "duration": 324,
    "start_time": "2022-01-07T16:35:55.265Z"
   },
   {
    "duration": 759,
    "start_time": "2022-01-07T16:36:01.855Z"
   },
   {
    "duration": 142,
    "start_time": "2022-01-07T16:36:02.616Z"
   },
   {
    "duration": 16,
    "start_time": "2022-01-07T16:36:02.760Z"
   },
   {
    "duration": 7,
    "start_time": "2022-01-07T16:36:02.779Z"
   },
   {
    "duration": 5,
    "start_time": "2022-01-07T16:36:02.788Z"
   },
   {
    "duration": 22,
    "start_time": "2022-01-07T16:36:02.794Z"
   },
   {
    "duration": 4,
    "start_time": "2022-01-07T16:36:02.818Z"
   },
   {
    "duration": 58,
    "start_time": "2022-01-07T16:36:02.824Z"
   },
   {
    "duration": 21,
    "start_time": "2022-01-07T16:36:02.884Z"
   },
   {
    "duration": 26,
    "start_time": "2022-01-07T16:36:02.907Z"
   },
   {
    "duration": 86,
    "start_time": "2022-01-07T16:36:02.934Z"
   },
   {
    "duration": 80,
    "start_time": "2022-01-07T16:36:03.022Z"
   },
   {
    "duration": 58,
    "start_time": "2022-01-07T16:36:03.104Z"
   },
   {
    "duration": 8,
    "start_time": "2022-01-07T16:36:03.165Z"
   },
   {
    "duration": 3,
    "start_time": "2022-01-07T16:36:03.175Z"
   },
   {
    "duration": 14,
    "start_time": "2022-01-07T16:36:03.180Z"
   },
   {
    "duration": 9,
    "start_time": "2022-01-07T16:36:03.195Z"
   },
   {
    "duration": 12,
    "start_time": "2022-01-07T16:36:03.205Z"
   },
   {
    "duration": 11,
    "start_time": "2022-01-07T16:36:03.218Z"
   },
   {
    "duration": 4,
    "start_time": "2022-01-07T16:36:03.261Z"
   },
   {
    "duration": 28,
    "start_time": "2022-01-07T16:36:03.266Z"
   },
   {
    "duration": 22,
    "start_time": "2022-01-07T16:36:03.296Z"
   },
   {
    "duration": 45,
    "start_time": "2022-01-07T16:36:03.322Z"
   },
   {
    "duration": 15,
    "start_time": "2022-01-07T16:36:03.368Z"
   },
   {
    "duration": 19,
    "start_time": "2022-01-07T16:36:03.384Z"
   },
   {
    "duration": 23,
    "start_time": "2022-01-07T16:36:03.405Z"
   },
   {
    "duration": 29,
    "start_time": "2022-01-07T16:36:03.429Z"
   },
   {
    "duration": 20,
    "start_time": "2022-01-07T16:36:03.460Z"
   },
   {
    "duration": 29,
    "start_time": "2022-01-07T16:36:03.482Z"
   },
   {
    "duration": 17,
    "start_time": "2022-01-07T16:36:03.513Z"
   },
   {
    "duration": 50,
    "start_time": "2022-01-07T16:36:03.531Z"
   },
   {
    "duration": 29,
    "start_time": "2022-01-07T16:36:03.583Z"
   },
   {
    "duration": 23,
    "start_time": "2022-01-07T16:36:03.615Z"
   },
   {
    "duration": 24,
    "start_time": "2022-01-07T16:36:03.640Z"
   },
   {
    "duration": 13,
    "start_time": "2022-01-07T16:36:03.666Z"
   },
   {
    "duration": 28,
    "start_time": "2022-01-07T16:36:03.681Z"
   },
   {
    "duration": 20,
    "start_time": "2022-01-07T16:36:03.710Z"
   },
   {
    "duration": 12,
    "start_time": "2022-01-07T16:36:03.732Z"
   },
   {
    "duration": 7,
    "start_time": "2022-01-07T16:36:28.343Z"
   },
   {
    "duration": 4,
    "start_time": "2022-01-07T18:19:00.198Z"
   },
   {
    "duration": 4,
    "start_time": "2022-01-07T18:22:50.544Z"
   },
   {
    "duration": 5,
    "start_time": "2022-01-07T18:24:23.290Z"
   },
   {
    "duration": 4,
    "start_time": "2022-01-07T18:24:33.317Z"
   },
   {
    "duration": 4,
    "start_time": "2022-01-07T18:27:19.687Z"
   },
   {
    "duration": 275,
    "start_time": "2022-01-07T18:27:43.137Z"
   },
   {
    "duration": 3,
    "start_time": "2022-01-07T18:28:20.148Z"
   },
   {
    "duration": 207,
    "start_time": "2022-01-07T18:28:20.153Z"
   },
   {
    "duration": 17,
    "start_time": "2022-01-07T18:28:20.363Z"
   },
   {
    "duration": 20,
    "start_time": "2022-01-07T18:28:20.382Z"
   },
   {
    "duration": 13,
    "start_time": "2022-01-07T18:28:20.404Z"
   },
   {
    "duration": 21,
    "start_time": "2022-01-07T18:28:20.418Z"
   },
   {
    "duration": 4,
    "start_time": "2022-01-07T18:28:20.441Z"
   },
   {
    "duration": 37,
    "start_time": "2022-01-07T18:28:20.447Z"
   },
   {
    "duration": 32,
    "start_time": "2022-01-07T18:28:20.487Z"
   },
   {
    "duration": 44,
    "start_time": "2022-01-07T18:28:20.521Z"
   },
   {
    "duration": 62,
    "start_time": "2022-01-07T18:28:20.567Z"
   },
   {
    "duration": 78,
    "start_time": "2022-01-07T18:28:20.631Z"
   },
   {
    "duration": 62,
    "start_time": "2022-01-07T18:28:20.711Z"
   },
   {
    "duration": 13,
    "start_time": "2022-01-07T18:28:20.775Z"
   },
   {
    "duration": 4,
    "start_time": "2022-01-07T18:28:20.790Z"
   },
   {
    "duration": 11,
    "start_time": "2022-01-07T18:28:20.796Z"
   },
   {
    "duration": 9,
    "start_time": "2022-01-07T18:28:20.808Z"
   },
   {
    "duration": 44,
    "start_time": "2022-01-07T18:28:20.818Z"
   },
   {
    "duration": 12,
    "start_time": "2022-01-07T18:28:20.869Z"
   },
   {
    "duration": 6,
    "start_time": "2022-01-07T18:28:20.883Z"
   },
   {
    "duration": 28,
    "start_time": "2022-01-07T18:28:20.890Z"
   },
   {
    "duration": 24,
    "start_time": "2022-01-07T18:28:20.920Z"
   },
   {
    "duration": 30,
    "start_time": "2022-01-07T18:28:20.946Z"
   },
   {
    "duration": 21,
    "start_time": "2022-01-07T18:28:20.978Z"
   },
   {
    "duration": 21,
    "start_time": "2022-01-07T18:28:21.001Z"
   },
   {
    "duration": 21,
    "start_time": "2022-01-07T18:28:21.024Z"
   },
   {
    "duration": 31,
    "start_time": "2022-01-07T18:28:21.047Z"
   },
   {
    "duration": 23,
    "start_time": "2022-01-07T18:28:21.080Z"
   },
   {
    "duration": 10,
    "start_time": "2022-01-07T18:28:21.105Z"
   },
   {
    "duration": 393,
    "start_time": "2022-01-07T18:28:21.117Z"
   },
   {
    "duration": -695,
    "start_time": "2022-01-07T18:28:22.206Z"
   },
   {
    "duration": -702,
    "start_time": "2022-01-07T18:28:22.214Z"
   },
   {
    "duration": -707,
    "start_time": "2022-01-07T18:28:22.220Z"
   },
   {
    "duration": -713,
    "start_time": "2022-01-07T18:28:22.226Z"
   },
   {
    "duration": -718,
    "start_time": "2022-01-07T18:28:22.232Z"
   },
   {
    "duration": -720,
    "start_time": "2022-01-07T18:28:22.235Z"
   },
   {
    "duration": -746,
    "start_time": "2022-01-07T18:28:22.262Z"
   },
   {
    "duration": -750,
    "start_time": "2022-01-07T18:28:22.267Z"
   },
   {
    "duration": 243,
    "start_time": "2022-01-07T18:28:28.478Z"
   },
   {
    "duration": 4,
    "start_time": "2022-01-07T18:29:26.536Z"
   },
   {
    "duration": 4,
    "start_time": "2022-01-07T18:29:38.782Z"
   },
   {
    "duration": 907,
    "start_time": "2022-01-07T18:41:43.795Z"
   },
   {
    "duration": 479,
    "start_time": "2022-01-07T18:46:39.472Z"
   },
   {
    "duration": 3,
    "start_time": "2022-01-07T18:46:46.006Z"
   },
   {
    "duration": 152,
    "start_time": "2022-01-07T18:46:46.011Z"
   },
   {
    "duration": 9,
    "start_time": "2022-01-07T18:46:46.165Z"
   },
   {
    "duration": 9,
    "start_time": "2022-01-07T18:46:46.176Z"
   },
   {
    "duration": 5,
    "start_time": "2022-01-07T18:46:46.186Z"
   },
   {
    "duration": 19,
    "start_time": "2022-01-07T18:46:46.192Z"
   },
   {
    "duration": 4,
    "start_time": "2022-01-07T18:46:46.213Z"
   },
   {
    "duration": 55,
    "start_time": "2022-01-07T18:46:46.219Z"
   },
   {
    "duration": 19,
    "start_time": "2022-01-07T18:46:46.276Z"
   },
   {
    "duration": 23,
    "start_time": "2022-01-07T18:46:46.297Z"
   },
   {
    "duration": 80,
    "start_time": "2022-01-07T18:46:46.321Z"
   },
   {
    "duration": 75,
    "start_time": "2022-01-07T18:46:46.403Z"
   },
   {
    "duration": 46,
    "start_time": "2022-01-07T18:46:46.480Z"
   },
   {
    "duration": 8,
    "start_time": "2022-01-07T18:46:46.528Z"
   },
   {
    "duration": 23,
    "start_time": "2022-01-07T18:46:46.538Z"
   },
   {
    "duration": 12,
    "start_time": "2022-01-07T18:46:46.562Z"
   },
   {
    "duration": 10,
    "start_time": "2022-01-07T18:46:46.575Z"
   },
   {
    "duration": 10,
    "start_time": "2022-01-07T18:46:46.586Z"
   },
   {
    "duration": 22,
    "start_time": "2022-01-07T18:46:46.599Z"
   },
   {
    "duration": 4,
    "start_time": "2022-01-07T18:46:46.623Z"
   },
   {
    "duration": 45,
    "start_time": "2022-01-07T18:46:46.628Z"
   },
   {
    "duration": 15,
    "start_time": "2022-01-07T18:46:46.674Z"
   },
   {
    "duration": 14,
    "start_time": "2022-01-07T18:46:46.690Z"
   },
   {
    "duration": 13,
    "start_time": "2022-01-07T18:46:46.706Z"
   },
   {
    "duration": 45,
    "start_time": "2022-01-07T18:46:46.721Z"
   },
   {
    "duration": 14,
    "start_time": "2022-01-07T18:46:46.767Z"
   },
   {
    "duration": 6,
    "start_time": "2022-01-07T18:46:46.783Z"
   },
   {
    "duration": 13,
    "start_time": "2022-01-07T18:46:46.791Z"
   },
   {
    "duration": 10,
    "start_time": "2022-01-07T18:46:46.805Z"
   },
   {
    "duration": 4,
    "start_time": "2022-01-07T18:46:46.816Z"
   },
   {
    "duration": 57,
    "start_time": "2022-01-07T18:46:46.822Z"
   },
   {
    "duration": 3,
    "start_time": "2022-01-07T18:46:46.880Z"
   },
   {
    "duration": 5,
    "start_time": "2022-01-07T18:46:46.885Z"
   },
   {
    "duration": 4,
    "start_time": "2022-01-07T18:46:46.892Z"
   },
   {
    "duration": 4,
    "start_time": "2022-01-07T18:46:46.897Z"
   },
   {
    "duration": 5,
    "start_time": "2022-01-07T18:46:46.903Z"
   },
   {
    "duration": 4,
    "start_time": "2022-01-07T18:46:46.910Z"
   },
   {
    "duration": 4,
    "start_time": "2022-01-07T18:46:46.915Z"
   },
   {
    "duration": 16,
    "start_time": "2022-01-07T18:48:01.967Z"
   },
   {
    "duration": 27,
    "start_time": "2022-01-07T18:49:13.347Z"
   },
   {
    "duration": 14,
    "start_time": "2022-01-07T18:50:24.723Z"
   },
   {
    "duration": 9,
    "start_time": "2022-01-07T18:55:19.191Z"
   },
   {
    "duration": 5,
    "start_time": "2022-01-07T18:55:59.158Z"
   },
   {
    "duration": 5,
    "start_time": "2022-01-07T18:56:20.414Z"
   },
   {
    "duration": 253,
    "start_time": "2022-01-07T18:58:20.613Z"
   },
   {
    "duration": 7,
    "start_time": "2022-01-07T18:58:26.067Z"
   },
   {
    "duration": 5,
    "start_time": "2022-01-07T18:58:28.212Z"
   },
   {
    "duration": 574,
    "start_time": "2022-01-11T04:06:49.008Z"
   },
   {
    "duration": 127,
    "start_time": "2022-01-11T04:06:49.583Z"
   },
   {
    "duration": 16,
    "start_time": "2022-01-11T04:06:49.711Z"
   },
   {
    "duration": 7,
    "start_time": "2022-01-11T04:06:49.729Z"
   },
   {
    "duration": 5,
    "start_time": "2022-01-11T04:06:49.737Z"
   },
   {
    "duration": 19,
    "start_time": "2022-01-11T04:06:49.743Z"
   },
   {
    "duration": 2,
    "start_time": "2022-01-11T04:06:49.764Z"
   },
   {
    "duration": 22,
    "start_time": "2022-01-11T04:06:49.768Z"
   },
   {
    "duration": 39,
    "start_time": "2022-01-11T04:06:49.792Z"
   },
   {
    "duration": 19,
    "start_time": "2022-01-11T04:06:49.833Z"
   },
   {
    "duration": 51,
    "start_time": "2022-01-11T04:06:49.853Z"
   },
   {
    "duration": 76,
    "start_time": "2022-01-11T04:06:49.905Z"
   },
   {
    "duration": 56,
    "start_time": "2022-01-11T04:06:49.983Z"
   },
   {
    "duration": 8,
    "start_time": "2022-01-11T04:06:50.040Z"
   },
   {
    "duration": 3,
    "start_time": "2022-01-11T04:06:50.049Z"
   },
   {
    "duration": 13,
    "start_time": "2022-01-11T04:06:50.053Z"
   },
   {
    "duration": 7,
    "start_time": "2022-01-11T04:06:50.068Z"
   },
   {
    "duration": 9,
    "start_time": "2022-01-11T04:06:50.076Z"
   },
   {
    "duration": 8,
    "start_time": "2022-01-11T04:06:50.087Z"
   },
   {
    "duration": 3,
    "start_time": "2022-01-11T04:06:50.096Z"
   },
   {
    "duration": 13,
    "start_time": "2022-01-11T04:06:50.127Z"
   },
   {
    "duration": 12,
    "start_time": "2022-01-11T04:06:50.141Z"
   },
   {
    "duration": 12,
    "start_time": "2022-01-11T04:06:50.155Z"
   },
   {
    "duration": 11,
    "start_time": "2022-01-11T04:06:50.168Z"
   },
   {
    "duration": 15,
    "start_time": "2022-01-11T04:06:50.181Z"
   },
   {
    "duration": 41,
    "start_time": "2022-01-11T04:06:50.197Z"
   },
   {
    "duration": 5,
    "start_time": "2022-01-11T04:06:50.240Z"
   },
   {
    "duration": 12,
    "start_time": "2022-01-11T04:06:50.247Z"
   },
   {
    "duration": 8,
    "start_time": "2022-01-11T04:06:50.260Z"
   },
   {
    "duration": 3,
    "start_time": "2022-01-11T04:06:50.269Z"
   },
   {
    "duration": 18,
    "start_time": "2022-01-11T04:06:50.274Z"
   },
   {
    "duration": 34,
    "start_time": "2022-01-11T04:06:50.293Z"
   },
   {
    "duration": 14,
    "start_time": "2022-01-11T04:06:50.329Z"
   },
   {
    "duration": 10,
    "start_time": "2022-01-11T04:06:50.345Z"
   },
   {
    "duration": 6,
    "start_time": "2022-01-11T04:06:50.356Z"
   },
   {
    "duration": 3,
    "start_time": "2022-01-11T04:06:50.364Z"
   },
   {
    "duration": 6,
    "start_time": "2022-01-11T04:06:50.368Z"
   },
   {
    "duration": 5,
    "start_time": "2022-01-11T04:06:50.376Z"
   },
   {
    "duration": 536,
    "start_time": "2022-01-11T04:28:38.151Z"
   },
   {
    "duration": 122,
    "start_time": "2022-01-11T04:28:38.689Z"
   },
   {
    "duration": 15,
    "start_time": "2022-01-11T04:28:38.813Z"
   },
   {
    "duration": 9,
    "start_time": "2022-01-11T04:28:38.829Z"
   },
   {
    "duration": 5,
    "start_time": "2022-01-11T04:28:38.839Z"
   },
   {
    "duration": 18,
    "start_time": "2022-01-11T04:28:38.846Z"
   },
   {
    "duration": 3,
    "start_time": "2022-01-11T04:28:38.866Z"
   },
   {
    "duration": 25,
    "start_time": "2022-01-11T04:28:38.871Z"
   },
   {
    "duration": 40,
    "start_time": "2022-01-11T04:28:38.898Z"
   },
   {
    "duration": 19,
    "start_time": "2022-01-11T04:28:38.940Z"
   },
   {
    "duration": 57,
    "start_time": "2022-01-11T04:28:38.960Z"
   },
   {
    "duration": 64,
    "start_time": "2022-01-11T04:28:39.027Z"
   },
   {
    "duration": 55,
    "start_time": "2022-01-11T04:28:39.093Z"
   },
   {
    "duration": 8,
    "start_time": "2022-01-11T04:28:39.150Z"
   },
   {
    "duration": 4,
    "start_time": "2022-01-11T04:28:39.160Z"
   },
   {
    "duration": 10,
    "start_time": "2022-01-11T04:28:39.165Z"
   },
   {
    "duration": 8,
    "start_time": "2022-01-11T04:28:39.176Z"
   },
   {
    "duration": 9,
    "start_time": "2022-01-11T04:28:39.186Z"
   },
   {
    "duration": 38,
    "start_time": "2022-01-11T04:28:39.196Z"
   },
   {
    "duration": 3,
    "start_time": "2022-01-11T04:28:39.236Z"
   },
   {
    "duration": 19,
    "start_time": "2022-01-11T04:28:39.241Z"
   },
   {
    "duration": 14,
    "start_time": "2022-01-11T04:28:39.262Z"
   },
   {
    "duration": 13,
    "start_time": "2022-01-11T04:28:39.278Z"
   },
   {
    "duration": 35,
    "start_time": "2022-01-11T04:28:39.293Z"
   },
   {
    "duration": 14,
    "start_time": "2022-01-11T04:28:39.330Z"
   },
   {
    "duration": 12,
    "start_time": "2022-01-11T04:28:39.345Z"
   },
   {
    "duration": 5,
    "start_time": "2022-01-11T04:28:39.358Z"
   },
   {
    "duration": 10,
    "start_time": "2022-01-11T04:28:39.365Z"
   },
   {
    "duration": 7,
    "start_time": "2022-01-11T04:28:39.377Z"
   },
   {
    "duration": 3,
    "start_time": "2022-01-11T04:28:39.386Z"
   },
   {
    "duration": 48,
    "start_time": "2022-01-11T04:28:39.390Z"
   },
   {
    "duration": 10,
    "start_time": "2022-01-11T04:28:39.440Z"
   },
   {
    "duration": 14,
    "start_time": "2022-01-11T04:28:39.452Z"
   },
   {
    "duration": 10,
    "start_time": "2022-01-11T04:28:39.468Z"
   },
   {
    "duration": 7,
    "start_time": "2022-01-11T04:28:39.480Z"
   },
   {
    "duration": 4,
    "start_time": "2022-01-11T04:28:39.488Z"
   },
   {
    "duration": 34,
    "start_time": "2022-01-11T04:28:39.493Z"
   },
   {
    "duration": 5,
    "start_time": "2022-01-11T04:28:39.529Z"
   },
   {
    "duration": 90,
    "start_time": "2022-01-17T18:10:38.532Z"
   },
   {
    "duration": 104,
    "start_time": "2022-01-17T18:11:25.316Z"
   },
   {
    "duration": 91,
    "start_time": "2022-01-17T18:12:25.923Z"
   },
   {
    "duration": 723,
    "start_time": "2022-01-17T18:12:48.792Z"
   },
   {
    "duration": 192,
    "start_time": "2022-01-17T18:12:49.517Z"
   },
   {
    "duration": 25,
    "start_time": "2022-01-17T18:12:49.712Z"
   },
   {
    "duration": 29,
    "start_time": "2022-01-17T18:12:49.740Z"
   },
   {
    "duration": 96,
    "start_time": "2022-01-17T18:12:49.772Z"
   },
   {
    "duration": -298,
    "start_time": "2022-01-17T18:12:50.170Z"
   },
   {
    "duration": -311,
    "start_time": "2022-01-17T18:12:50.184Z"
   },
   {
    "duration": -319,
    "start_time": "2022-01-17T18:12:50.194Z"
   },
   {
    "duration": -327,
    "start_time": "2022-01-17T18:12:50.203Z"
   },
   {
    "duration": -334,
    "start_time": "2022-01-17T18:12:50.212Z"
   },
   {
    "duration": -340,
    "start_time": "2022-01-17T18:12:50.220Z"
   },
   {
    "duration": -349,
    "start_time": "2022-01-17T18:12:50.230Z"
   },
   {
    "duration": -406,
    "start_time": "2022-01-17T18:12:50.289Z"
   },
   {
    "duration": -416,
    "start_time": "2022-01-17T18:12:50.300Z"
   },
   {
    "duration": -422,
    "start_time": "2022-01-17T18:12:50.308Z"
   },
   {
    "duration": -430,
    "start_time": "2022-01-17T18:12:50.317Z"
   },
   {
    "duration": -433,
    "start_time": "2022-01-17T18:12:50.322Z"
   },
   {
    "duration": -441,
    "start_time": "2022-01-17T18:12:50.331Z"
   },
   {
    "duration": -445,
    "start_time": "2022-01-17T18:12:50.338Z"
   },
   {
    "duration": -453,
    "start_time": "2022-01-17T18:12:50.347Z"
   },
   {
    "duration": -459,
    "start_time": "2022-01-17T18:12:50.354Z"
   },
   {
    "duration": -467,
    "start_time": "2022-01-17T18:12:50.364Z"
   },
   {
    "duration": -474,
    "start_time": "2022-01-17T18:12:50.372Z"
   },
   {
    "duration": -481,
    "start_time": "2022-01-17T18:12:50.382Z"
   },
   {
    "duration": -499,
    "start_time": "2022-01-17T18:12:50.401Z"
   },
   {
    "duration": -505,
    "start_time": "2022-01-17T18:12:50.408Z"
   },
   {
    "duration": -511,
    "start_time": "2022-01-17T18:12:50.416Z"
   },
   {
    "duration": -516,
    "start_time": "2022-01-17T18:12:50.422Z"
   },
   {
    "duration": -522,
    "start_time": "2022-01-17T18:12:50.429Z"
   },
   {
    "duration": -528,
    "start_time": "2022-01-17T18:12:50.436Z"
   },
   {
    "duration": -536,
    "start_time": "2022-01-17T18:12:50.446Z"
   },
   {
    "duration": -491,
    "start_time": "2022-01-17T18:12:50.456Z"
   },
   {
    "duration": -499,
    "start_time": "2022-01-17T18:12:50.465Z"
   },
   {
    "duration": -506,
    "start_time": "2022-01-17T18:12:50.474Z"
   },
   {
    "duration": -513,
    "start_time": "2022-01-17T18:12:50.483Z"
   },
   {
    "duration": -519,
    "start_time": "2022-01-17T18:12:50.490Z"
   },
   {
    "duration": -537,
    "start_time": "2022-01-17T18:12:50.510Z"
   },
   {
    "duration": -544,
    "start_time": "2022-01-17T18:12:50.518Z"
   },
   {
    "duration": -547,
    "start_time": "2022-01-17T18:12:50.523Z"
   },
   {
    "duration": 141,
    "start_time": "2022-01-17T18:13:03.716Z"
   },
   {
    "duration": 31,
    "start_time": "2022-01-17T18:16:13.957Z"
   },
   {
    "duration": 131,
    "start_time": "2022-01-17T18:17:32.162Z"
   },
   {
    "duration": 95,
    "start_time": "2022-01-17T18:17:44.385Z"
   },
   {
    "duration": 13,
    "start_time": "2022-01-17T18:18:53.178Z"
   },
   {
    "duration": 571,
    "start_time": "2022-01-17T20:23:42.823Z"
   },
   {
    "duration": 127,
    "start_time": "2022-01-17T20:23:43.396Z"
   },
   {
    "duration": 16,
    "start_time": "2022-01-17T20:23:43.525Z"
   },
   {
    "duration": 23,
    "start_time": "2022-01-17T20:23:43.543Z"
   },
   {
    "duration": 3,
    "start_time": "2022-01-17T20:23:43.568Z"
   },
   {
    "duration": 23,
    "start_time": "2022-01-17T20:23:43.573Z"
   },
   {
    "duration": 4,
    "start_time": "2022-01-17T20:23:43.597Z"
   },
   {
    "duration": 39,
    "start_time": "2022-01-17T20:23:43.603Z"
   },
   {
    "duration": 15,
    "start_time": "2022-01-17T20:23:43.644Z"
   },
   {
    "duration": 22,
    "start_time": "2022-01-17T20:23:43.661Z"
   },
   {
    "duration": 71,
    "start_time": "2022-01-17T20:23:43.684Z"
   },
   {
    "duration": 66,
    "start_time": "2022-01-17T20:23:43.756Z"
   },
   {
    "duration": 59,
    "start_time": "2022-01-17T20:23:43.823Z"
   },
   {
    "duration": 9,
    "start_time": "2022-01-17T20:23:43.884Z"
   },
   {
    "duration": 4,
    "start_time": "2022-01-17T20:23:43.894Z"
   },
   {
    "duration": 10,
    "start_time": "2022-01-17T20:23:43.899Z"
   },
   {
    "duration": 34,
    "start_time": "2022-01-17T20:23:43.911Z"
   },
   {
    "duration": 10,
    "start_time": "2022-01-17T20:23:43.947Z"
   },
   {
    "duration": 9,
    "start_time": "2022-01-17T20:23:43.959Z"
   },
   {
    "duration": 3,
    "start_time": "2022-01-17T20:23:43.969Z"
   },
   {
    "duration": 15,
    "start_time": "2022-01-17T20:23:43.974Z"
   },
   {
    "duration": 12,
    "start_time": "2022-01-17T20:23:43.990Z"
   },
   {
    "duration": 48,
    "start_time": "2022-01-17T20:23:44.005Z"
   },
   {
    "duration": 12,
    "start_time": "2022-01-17T20:23:44.055Z"
   },
   {
    "duration": 20,
    "start_time": "2022-01-17T20:23:44.068Z"
   },
   {
    "duration": 13,
    "start_time": "2022-01-17T20:23:44.090Z"
   },
   {
    "duration": 8,
    "start_time": "2022-01-17T20:23:44.104Z"
   },
   {
    "duration": 31,
    "start_time": "2022-01-17T20:23:44.113Z"
   },
   {
    "duration": 8,
    "start_time": "2022-01-17T20:23:44.145Z"
   },
   {
    "duration": 5,
    "start_time": "2022-01-17T20:23:44.154Z"
   },
   {
    "duration": 26,
    "start_time": "2022-01-17T20:23:44.161Z"
   },
   {
    "duration": 10,
    "start_time": "2022-01-17T20:23:44.189Z"
   },
   {
    "duration": 14,
    "start_time": "2022-01-17T20:23:44.201Z"
   },
   {
    "duration": 26,
    "start_time": "2022-01-17T20:23:44.217Z"
   },
   {
    "duration": 6,
    "start_time": "2022-01-17T20:23:44.245Z"
   },
   {
    "duration": 11,
    "start_time": "2022-01-17T20:23:44.252Z"
   },
   {
    "duration": 9,
    "start_time": "2022-01-17T20:23:44.264Z"
   },
   {
    "duration": 9,
    "start_time": "2022-01-17T20:23:44.274Z"
   },
   {
    "duration": 555,
    "start_time": "2022-01-18T03:45:44.806Z"
   },
   {
    "duration": 116,
    "start_time": "2022-01-18T03:45:45.362Z"
   },
   {
    "duration": 14,
    "start_time": "2022-01-18T03:45:45.480Z"
   },
   {
    "duration": 22,
    "start_time": "2022-01-18T03:45:45.495Z"
   },
   {
    "duration": 4,
    "start_time": "2022-01-18T03:45:45.518Z"
   },
   {
    "duration": 18,
    "start_time": "2022-01-18T03:45:45.523Z"
   },
   {
    "duration": 4,
    "start_time": "2022-01-18T03:45:45.542Z"
   },
   {
    "duration": 41,
    "start_time": "2022-01-18T03:45:45.548Z"
   },
   {
    "duration": 14,
    "start_time": "2022-01-18T03:45:45.591Z"
   },
   {
    "duration": 19,
    "start_time": "2022-01-18T03:45:45.606Z"
   },
   {
    "duration": 66,
    "start_time": "2022-01-18T03:45:45.626Z"
   },
   {
    "duration": 60,
    "start_time": "2022-01-18T03:45:45.694Z"
   },
   {
    "duration": 52,
    "start_time": "2022-01-18T03:45:45.756Z"
   },
   {
    "duration": 9,
    "start_time": "2022-01-18T03:45:45.809Z"
   },
   {
    "duration": 3,
    "start_time": "2022-01-18T03:45:45.819Z"
   },
   {
    "duration": 10,
    "start_time": "2022-01-18T03:45:45.823Z"
   },
   {
    "duration": 8,
    "start_time": "2022-01-18T03:45:45.835Z"
   },
   {
    "duration": 33,
    "start_time": "2022-01-18T03:45:45.845Z"
   },
   {
    "duration": 8,
    "start_time": "2022-01-18T03:45:45.880Z"
   },
   {
    "duration": 3,
    "start_time": "2022-01-18T03:45:45.890Z"
   },
   {
    "duration": 15,
    "start_time": "2022-01-18T03:45:45.894Z"
   },
   {
    "duration": 11,
    "start_time": "2022-01-18T03:45:45.911Z"
   },
   {
    "duration": 11,
    "start_time": "2022-01-18T03:45:45.925Z"
   },
   {
    "duration": 41,
    "start_time": "2022-01-18T03:45:45.938Z"
   },
   {
    "duration": 15,
    "start_time": "2022-01-18T03:45:45.980Z"
   },
   {
    "duration": 13,
    "start_time": "2022-01-18T03:45:45.996Z"
   },
   {
    "duration": 9,
    "start_time": "2022-01-18T03:45:46.010Z"
   },
   {
    "duration": 14,
    "start_time": "2022-01-18T03:45:46.021Z"
   },
   {
    "duration": 39,
    "start_time": "2022-01-18T03:45:46.036Z"
   },
   {
    "duration": 3,
    "start_time": "2022-01-18T03:45:46.077Z"
   },
   {
    "duration": 18,
    "start_time": "2022-01-18T03:45:46.082Z"
   },
   {
    "duration": 10,
    "start_time": "2022-01-18T03:45:46.102Z"
   },
   {
    "duration": 15,
    "start_time": "2022-01-18T03:45:46.114Z"
   },
   {
    "duration": 11,
    "start_time": "2022-01-18T03:45:46.130Z"
   },
   {
    "duration": 30,
    "start_time": "2022-01-18T03:45:46.142Z"
   },
   {
    "duration": 4,
    "start_time": "2022-01-18T03:45:46.173Z"
   },
   {
    "duration": 8,
    "start_time": "2022-01-18T03:45:46.178Z"
   },
   {
    "duration": 9,
    "start_time": "2022-01-18T03:45:46.187Z"
   }
  ],
  "colab": {
   "collapsed_sections": [
    "E0vqbgi9ay0H",
    "VUC88oWjTJw2"
   ],
   "name": "yandex_music_project_2021.2.ipynb",
   "provenance": []
  },
  "kernelspec": {
   "display_name": "Python 3 (ipykernel)",
   "language": "python",
   "name": "python3"
  },
  "language_info": {
   "codemirror_mode": {
    "name": "ipython",
    "version": 3
   },
   "file_extension": ".py",
   "mimetype": "text/x-python",
   "name": "python",
   "nbconvert_exporter": "python",
   "pygments_lexer": "ipython3",
   "version": "3.9.7"
  },
  "toc": {
   "base_numbering": 1,
   "nav_menu": {},
   "number_sections": true,
   "sideBar": true,
   "skip_h1_title": true,
   "title_cell": "Содержание",
   "title_sidebar": "Contents",
   "toc_cell": true,
   "toc_position": {
    "height": "calc(100% - 180px)",
    "left": "10px",
    "top": "150px",
    "width": "345.365px"
   },
   "toc_section_display": true,
   "toc_window_display": true
  }
 },
 "nbformat": 4,
 "nbformat_minor": 1
}
